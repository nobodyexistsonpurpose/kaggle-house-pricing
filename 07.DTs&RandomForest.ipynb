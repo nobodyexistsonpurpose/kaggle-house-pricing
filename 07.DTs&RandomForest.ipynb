{
 "cells": [
  {
   "cell_type": "markdown",
   "id": "0",
   "metadata": {},
   "source": [
    "## Decision Trees and Random Forest\n",
    "\n",
    "In this notebook we will use one more basic ml model &ndash; decision trees and their ensemble &ndash; Random Forest."
   ]
  },
  {
   "cell_type": "code",
   "execution_count": null,
   "id": "1",
   "metadata": {},
   "outputs": [],
   "source": [
    "import pandas as pd\n",
    "import numpy as np\n",
    "import matplotlib.pyplot as plt\n",
    "import plotly.express as px\n",
    "from sklearn.metrics import r2_score, root_mean_squared_error, mean_squared_error\n",
    "from sklearn.ensemble import RandomForestRegressor\n",
    "from sklearn.tree import DecisionTreeRegressor\n",
    "from sklearn.model_selection import GridSearchCV, train_test_split, cross_val_score\n",
    "from sklearn import tree"
   ]
  },
  {
   "cell_type": "markdown",
   "id": "2",
   "metadata": {},
   "source": [
    "## Data load"
   ]
  },
  {
   "cell_type": "code",
   "execution_count": null,
   "id": "3",
   "metadata": {},
   "outputs": [],
   "source": [
    "data = pd.read_csv(\"data/train_without_nans.csv\")\n",
    "data_sub = pd.read_csv(\"data/test_without_nans.csv\")\n",
    "\n",
    "encoded = pd.read_csv(\"data/encoded_train.csv\")\n",
    "encoded_sub = pd.read_csv(\"data/encoded_test.csv\")\n",
    "\n",
    "scaled = pd.read_csv(\"data/scaled_train.csv\")\n",
    "scaled_sub = pd.read_csv(\"data/scaled_test.csv\")\n",
    "\n",
    "reduced = pd.read_csv(\"data/pca50train.csv\")\n",
    "reduced_sub = pd.read_csv(\"data/pca50test.csv\")"
   ]
  },
  {
   "cell_type": "code",
   "execution_count": null,
   "id": "4",
   "metadata": {},
   "outputs": [],
   "source": [
    "scaled_X, scaled_y = scaled.drop(\"SalePrice\", axis=1), scaled[\"SalePrice\"]\n",
    "reduced_X, reduced_y = reduced.drop(\"SalePrice\", axis=1), reduced[\"SalePrice\"]"
   ]
  },
  {
   "cell_type": "markdown",
   "id": "5",
   "metadata": {},
   "source": [
    "## Content\n",
    "\n",
    "<ol>\n",
    "    <li><a href=\"#decision-trees\">Decision Trees</a>\n",
    "        <ul>\n",
    "            <li><a href=\"#dt-feature-importance\">Feature importance</a></li>\n",
    "            <li><a href=\"#dt-cross-validation\">Parameters tuning</a></li>\n",
    "            <li><a href=\"#dt-residuals\">Residuals checking</a></li>\n",
    "        <ul>\n",
    "    </li>\n",
    "    <li><a href=\"#random-forest\">Random Forest</a>\n",
    "        <ul>\n",
    "            <li><a href=\"#rf-cross-validation\">Parameters tuning</a></li>\n",
    "            <li><a href=\"#rf-residuals\">Residuals checking</a></li>\n",
    "            <li><a href=\"#rf-final\">Final Training and submission</a></li>\n",
    "        <ul>\n",
    "    </li>\n",
    "    <li><a href=\"#pca-random-forest\">Random Forest + PCA</a>\n",
    "        <ul>\n",
    "            <li><a href=\"#pca-rf-cross-validation\">Parameters tuning</a></li>\n",
    "            <li><a href=\"#pca-rf-residuals\">Residuals checking</a></li>\n",
    "            <li><a href=\"#pca-rf-final\">Final Training and submission</a></li>\n",
    "        <ul>\n",
    "    </li>\n",
    "</ol>"
   ]
  },
  {
   "cell_type": "markdown",
   "id": "6",
   "metadata": {},
   "source": [
    "<a id=\"decision-trees\"></a>\n",
    "### Decision Trees\n",
    "\n",
    "First of all we can use a simpl decision tree to see how a simple \"building block\" of the random forest can solve our task"
   ]
  },
  {
   "cell_type": "markdown",
   "id": "7",
   "metadata": {},
   "source": [
    "<a id=\"dt-feature-importance\"></a>\n",
    "### Feature importance\n",
    "\n",
    "Let's overfit our decision tree to see which features are used by DT to make most of the splits"
   ]
  },
  {
   "cell_type": "code",
   "execution_count": null,
   "id": "8",
   "metadata": {},
   "outputs": [],
   "source": [
    "dt_overfitted_reg = DecisionTreeRegressor(random_state=1)\n",
    "dt_overfitted_reg.fit(scaled_X, scaled_y)\n",
    "\n",
    "feat_importances = pd.DataFrame({\"importance\": dt_overfitted_reg.feature_importances_}).set_index(scaled_X.columns)\n",
    "feat_importances.sort_values(by=\"importance\", ascending=False).head(n=5)"
   ]
  },
  {
   "cell_type": "markdown",
   "id": "9",
   "metadata": {},
   "source": [
    "A simple decision tree makes almost all of the splits along OverallQual feature. It means that splitting along that feature gives us the most increase in informativity in almost 60% of cases.\n",
    "\n",
    "There are many features which have feature importance less than 0.01"
   ]
  },
  {
   "cell_type": "code",
   "execution_count": null,
   "id": "10",
   "metadata": {},
   "outputs": [],
   "source": [
    "feat_importances[feat_importances[\"importance\"] < 0.01].shape"
   ]
  },
  {
   "cell_type": "markdown",
   "id": "11",
   "metadata": {},
   "source": [
    "Let's take all features with importances bigger or equal than 0.01 "
   ]
  },
  {
   "cell_type": "code",
   "execution_count": null,
   "id": "12",
   "metadata": {},
   "outputs": [],
   "source": [
    "dt_selected_features = feat_importances[feat_importances[\"importance\"] >= 0.01].index.values\n",
    "\n",
    "dt_selected_X = scaled_X[dt_selected_features]\n",
    "dt_selected_y = scaled_y"
   ]
  },
  {
   "cell_type": "markdown",
   "id": "13",
   "metadata": {},
   "source": [
    "<a id=\"dt-cross-validation\"></a>\n",
    "## Parameters Tuning\n",
    "\n",
    "Now we can check which decision tree hyperparameters give us the best cross validation score on our data.\n",
    "\n",
    "For a single decision tree we can bruteforce many combination of parameters for a pretty normal time. For example for the Random Forest it takes much more time."
   ]
  },
  {
   "cell_type": "code",
   "execution_count": null,
   "id": "14",
   "metadata": {},
   "outputs": [],
   "source": [
    "parameters = {\"max_depth\": [i for i in range(2, 20)],\n",
    "              \"min_samples_leaf\": [i for i in range(1, 20)],\n",
    "              \"random_state\": [1]}\n",
    "\n",
    "dt_grid = GridSearchCV(DecisionTreeRegressor(), parameters, cv=5,\n",
    "                       scoring=\"neg_root_mean_squared_error\")\n",
    "dt_grid.fit(dt_selected_X, dt_selected_y)\n",
    "print(\"BEST DT PARAMS:\", dt_grid.best_params_)"
   ]
  },
  {
   "cell_type": "code",
   "execution_count": null,
   "id": "15",
   "metadata": {},
   "outputs": [],
   "source": [
    "print(\"BEST DT CROSSVAL SCORE:\", -dt_grid.best_score_)"
   ]
  },
  {
   "cell_type": "markdown",
   "id": "16",
   "metadata": {},
   "source": [
    "That's a pretty poor score. And there is nothing strange about this because a single decision tree is a very weak model."
   ]
  },
  {
   "cell_type": "code",
   "execution_count": null,
   "id": "17",
   "metadata": {},
   "outputs": [],
   "source": [
    "dt_selected_reg = DecisionTreeRegressor(max_depth=11, min_samples_leaf=8, random_state=1).fit(dt_selected_X, dt_selected_y)"
   ]
  },
  {
   "cell_type": "code",
   "execution_count": null,
   "id": "18",
   "metadata": {},
   "outputs": [],
   "source": [
    "print(\"DT TRAIN ERROR\", root_mean_squared_error(dt_selected_y, dt_selected_reg.predict(dt_selected_X)))"
   ]
  },
  {
   "cell_type": "markdown",
   "id": "19",
   "metadata": {},
   "source": [
    "Even on train set our decision tree gives us almost the same result as the Ridge Regression on the cross validation"
   ]
  },
  {
   "cell_type": "markdown",
   "id": "20",
   "metadata": {},
   "source": [
    "<a id=\"dt-residuals\"></a>\n",
    "\n",
    "### Residuals Checking \n",
    "\n",
    "We will not make a submission with a single decision tree but we can look how its residuals are distributed with respect to the model predictions"
   ]
  },
  {
   "cell_type": "code",
   "execution_count": null,
   "id": "21",
   "metadata": {},
   "outputs": [],
   "source": [
    "dt_residuals = dt_selected_y - dt_selected_reg.predict(dt_selected_X)\n",
    "dt_residuals = pd.DataFrame({\"residuals\": dt_residuals})\n",
    "plt.figure(figsize=(12, 4))\n",
    "plt.hist(dt_residuals[\"residuals\"], bins=75)\n",
    "plt.show()"
   ]
  },
  {
   "cell_type": "markdown",
   "id": "22",
   "metadata": {},
   "source": [
    "If we recall our plot for residuals after the Ridge regression we can undestand that the simple decision tree has a bigger variance of the error. "
   ]
  },
  {
   "cell_type": "markdown",
   "id": "23",
   "metadata": {},
   "source": [
    "<a id=\"random-forest\"></a>\n",
    "## Random Forest\n",
    "\n",
    "Now let's take a look at how the ensemble of weak Decision Trees can solve our problem. Generally ensemble models are axactly the ones who can be used to decrease the variance of the error of the single model."
   ]
  },
  {
   "cell_type": "code",
   "execution_count": null,
   "id": "24",
   "metadata": {},
   "outputs": [],
   "source": [
    "rf_overfitted_reg = RandomForestRegressor(random_state=1)\n",
    "rf_overfitted_reg.fit(scaled_X, scaled_y)\n",
    "\n",
    "rf_feat_importances = pd.DataFrame({\"importance\": rf_overfitted_reg.feature_importances_}).set_index(scaled_X.columns)\n",
    "rf_feat_importances.sort_values(by=\"importance\", ascending=False).head(n=10)"
   ]
  },
  {
   "cell_type": "markdown",
   "id": "25",
   "metadata": {},
   "source": [
    "We have almost the same list of top-affecting features."
   ]
  },
  {
   "cell_type": "code",
   "execution_count": null,
   "id": "26",
   "metadata": {},
   "outputs": [],
   "source": [
    "rf_feat_importances[rf_feat_importances[\"importance\"] < 0.005].shape"
   ]
  },
  {
   "cell_type": "code",
   "execution_count": null,
   "id": "27",
   "metadata": {},
   "outputs": [],
   "source": [
    "rf_selected_features = rf_feat_importances[rf_feat_importances[\"importance\"] >= 0.005].index.values\n",
    "\n",
    "rf_selected_X = scaled_X[rf_selected_features]\n",
    "rf_selected_y = scaled_y"
   ]
  },
  {
   "cell_type": "markdown",
   "id": "28",
   "metadata": {},
   "source": [
    "<a id=\"rf-cross-validation\"></a>\n",
    "## Parameters Tuning\n",
    "\n",
    "If we use too many combinations of parameters we will wait too long for our cross validation so we will tune only **max_depth** parameter to see how our Random Forest performs on our data at least nearly."
   ]
  },
  {
   "cell_type": "code",
   "execution_count": null,
   "id": "29",
   "metadata": {},
   "outputs": [],
   "source": [
    "parameters = {\"max_depth\": [i for i in range(1, 35)],\n",
    "              \"random_state\": [1]}\n",
    "\n",
    "rf_grid = GridSearchCV(RandomForestRegressor(), parameters, cv=5,\n",
    "                       scoring=\"neg_root_mean_squared_error\")\n",
    "rf_grid.fit(rf_selected_X, rf_selected_y)\n",
    "print(\"BEST RF PARAMS:\", rf_grid.best_params_)"
   ]
  },
  {
   "cell_type": "code",
   "execution_count": null,
   "id": "30",
   "metadata": {},
   "outputs": [],
   "source": [
    "print(\"BEST RF CROSSVAL SCORE:\", -rf_grid.best_score_)"
   ]
  },
  {
   "cell_type": "markdown",
   "id": "31",
   "metadata": {},
   "source": [
    "Random Forest gave us much better cross validation scores than a single decision tree. But if we check once again our file with linear models we can see that ridge regression gave us better validation score. Yes, we've used LOOCV during the ridge regression training and not k-fold with k=5 validation but even now we can say that probably decision trees and Random Forest cannot solve our task so good as linear model with regularization.\n",
    "\n",
    "But of course first of all we need to check the performance of our Random Forest Regressor after we remove objects which give us large residuals. If there are some outliers with respect to the target variable they can badly afect our model."
   ]
  },
  {
   "cell_type": "code",
   "execution_count": null,
   "id": "32",
   "metadata": {},
   "outputs": [],
   "source": [
    "rf_selected_reg = RandomForestRegressor(max_depth=15, random_state=1).fit(rf_selected_X, rf_selected_y)"
   ]
  },
  {
   "cell_type": "code",
   "execution_count": null,
   "id": "33",
   "metadata": {},
   "outputs": [],
   "source": [
    "print(\"RF TRAIN ERROR\", root_mean_squared_error(rf_selected_y, rf_selected_reg.predict(rf_selected_X)))"
   ]
  },
  {
   "cell_type": "markdown",
   "id": "34",
   "metadata": {},
   "source": [
    "That's an unbelievable good score but only on the train set. I don't think we will have the same result on the validation set."
   ]
  },
  {
   "cell_type": "markdown",
   "id": "35",
   "metadata": {},
   "source": [
    "<a id=\"rf-residuals\"></a>\n",
    "\n",
    "### Residuals Checking "
   ]
  },
  {
   "cell_type": "code",
   "execution_count": null,
   "id": "36",
   "metadata": {},
   "outputs": [],
   "source": [
    "rf_residuals = rf_selected_y - rf_selected_reg.predict(rf_selected_X)\n",
    "rf_residuals = pd.DataFrame({\"residuals\": rf_residuals})\n",
    "plt.figure(figsize=(12, 4))\n",
    "plt.hist(rf_residuals[\"residuals\"], bins=75)\n",
    "plt.show()"
   ]
  },
  {
   "cell_type": "markdown",
   "id": "37",
   "metadata": {},
   "source": [
    "Here we also have some objects which give us some big residuals with respect to other objects. As well we saw it with linear models.\n",
    "Let's delete objects with residual higher than 0.15"
   ]
  },
  {
   "cell_type": "code",
   "execution_count": null,
   "id": "38",
   "metadata": {},
   "outputs": [],
   "source": [
    "rf_residuals[(rf_residuals[\"residuals\"].abs() > 0.15)].shape[0]"
   ]
  },
  {
   "cell_type": "markdown",
   "id": "39",
   "metadata": {},
   "source": [
    "<a id=\"rf-final\"></a>\n",
    "\n",
    "### Final training and submission"
   ]
  },
  {
   "cell_type": "code",
   "execution_count": null,
   "id": "40",
   "metadata": {},
   "outputs": [],
   "source": [
    "objects2clear_idx = rf_selected_X[rf_residuals[\"residuals\"].abs() > 0.15].index\n",
    "\n",
    "print(\"IDX OF OBJECTS TO DELETE:\", objects2clear_idx)\n",
    "\n",
    "rf_final_X = rf_selected_X.copy().drop(objects2clear_idx)\n",
    "rf_final_y = rf_selected_y.copy().drop(objects2clear_idx)\n",
    "\n",
    "print(rf_final_X.shape)\n",
    "\n",
    "rf_final_reg = RandomForestRegressor(max_depth=15, random_state=1)\n",
    "\n",
    "cv_scores = cross_val_score(rf_final_reg, rf_final_X, rf_final_y,\n",
    "                           cv=5, scoring=\"neg_root_mean_squared_error\")\n",
    "\n",
    "print(\"FINAL RF CROSSVAL SCORE\", -(cv_scores.sum() / 5))\n",
    "\n",
    "rf_final_reg = rf_final_reg.fit(rf_final_X, rf_final_y)\n",
    "\n",
    "print(\"FINAL RF TRAIN ERROR\", root_mean_squared_error(rf_final_y, rf_final_reg.predict(rf_final_X)))"
   ]
  },
  {
   "cell_type": "code",
   "execution_count": null,
   "id": "41",
   "metadata": {},
   "outputs": [],
   "source": [
    "rf_final_residuals = rf_final_y - rf_final_reg.predict(rf_final_X)"
   ]
  },
  {
   "cell_type": "code",
   "execution_count": null,
   "id": "42",
   "metadata": {},
   "outputs": [],
   "source": [
    "plt.figure(figsize=(12, 4))\n",
    "plt.scatter(rf_final_reg.predict(rf_final_X), rf_final_residuals)"
   ]
  },
  {
   "cell_type": "markdown",
   "id": "43",
   "metadata": {},
   "source": [
    "Let's try to submit our results"
   ]
  },
  {
   "cell_type": "code",
   "execution_count": null,
   "id": "44",
   "metadata": {},
   "outputs": [],
   "source": [
    "rf_sub_X = scaled_sub[rf_selected_features]\n",
    "\n",
    "rf_sub_prediction = np.exp(rf_final_reg.predict(rf_sub_X))\n",
    "\n",
    "rf_sub_df = pd.DataFrame({\"Id\": data_sub[\"Id\"], \"SalePrice\": rf_sub_prediction})\n",
    "rf_sub_df.to_csv(\"models/RandomForest/rf_sub.csv\", index=False)"
   ]
  },
  {
   "attachments": {
    "90fd7401-6e1e-472d-8d68-5eb28f2d810e.png": {
     "image/png": "[encoded data removed]"
    }
   },
   "cell_type": "markdown",
   "id": "45",
   "metadata": {},
   "source": [
    "Unfortunately after feature selection, outliers removing and max_depth parameter bruteforcing we received even worse result than just with a baseline overfitted RandomForest. Even the fact than CV score was nearly 0.12 we receive validation score 0.15\n",
    "\n",
    "![image.png](attachment:90fd7401-6e1e-472d-8d68-5eb28f2d810e.png)\n",
    "\n",
    "Generally we can accept that Random Forest cannot normally solve our problem on the initial encoded and scaled data. Ridge regression gave us better result.\n",
    "\n",
    "It means that in our dataset there are no good splitting along the features which can split our dataset into some groups with nearly the same prices."
   ]
  },
  {
   "cell_type": "markdown",
   "id": "46",
   "metadata": {},
   "source": [
    "<a id=\"pca-random-forest\"></a>\n",
    "## Random Forest + PCA\n",
    "\n",
    "Let's try to use our Random Forest along the PCA coordinates. As we said the problem of poor performance of our Random Forest above can appear because in initial feature space there are no obvious splitting which give us good increase in informativity.\n",
    "\n",
    "On the other hand PCA is a method which transform our data so in new feature space we have the largest possible variance along each feature. Perhaps in new features there are some good splitting for DT's and RF."
   ]
  },
  {
   "cell_type": "code",
   "execution_count": null,
   "id": "47",
   "metadata": {},
   "outputs": [],
   "source": [
    "pca_rf_overfitted_reg = RandomForestRegressor(random_state=1)\n",
    "pca_rf_overfitted_reg.fit(reduced_X, reduced_y)\n",
    "\n",
    "pca_rf_feat_importances = pd.DataFrame({\"importance\": pca_rf_overfitted_reg.feature_importances_}).set_index(reduced_X.columns)\n",
    "pca_rf_feat_importances.sort_values(by=\"importance\", ascending=False).head(n=10)"
   ]
  },
  {
   "cell_type": "markdown",
   "id": "48",
   "metadata": {},
   "source": [
    "Almost all splitting are made exactly along the first principal component. This is the component with the highest correlation with the target variable. "
   ]
  },
  {
   "cell_type": "code",
   "execution_count": null,
   "id": "49",
   "metadata": {},
   "outputs": [],
   "source": [
    "pca_rf_selected_features = pca_rf_feat_importances[pca_rf_feat_importances[\"importance\"] >= 0.005].index.values\n",
    "\n",
    "pca_rf_selected_X = reduced_X[pca_rf_selected_features]\n",
    "pca_rf_selected_y = reduced_y"
   ]
  },
  {
   "cell_type": "markdown",
   "id": "50",
   "metadata": {},
   "source": [
    "<a id=\"pca-rf-cross-validation\"></a>\n",
    "### Parameter tuning"
   ]
  },
  {
   "cell_type": "code",
   "execution_count": null,
   "id": "51",
   "metadata": {},
   "outputs": [],
   "source": [
    "parameters = {\"max_depth\": [i for i in range(1, 35)],\n",
    "              \"random_state\": [1]}\n",
    "\n",
    "pca_rf_grid = GridSearchCV(RandomForestRegressor(), parameters, cv=5,\n",
    "                       scoring=\"neg_root_mean_squared_error\")\n",
    "pca_rf_grid.fit(pca_rf_selected_X, pca_rf_selected_y)\n",
    "print(\"BEST PCA RF PARAMS:\", pca_rf_grid.best_params_)"
   ]
  },
  {
   "cell_type": "code",
   "execution_count": null,
   "id": "52",
   "metadata": {},
   "outputs": [],
   "source": [
    "print(\"BEST PCA RF CROSSVAL SCORE:\", -pca_rf_grid.best_score_)"
   ]
  },
  {
   "cell_type": "markdown",
   "id": "53",
   "metadata": {},
   "source": [
    "This CV score is a little bit better than CV score after feature selection using Random Forest without PCA"
   ]
  },
  {
   "cell_type": "code",
   "execution_count": null,
   "id": "54",
   "metadata": {},
   "outputs": [],
   "source": [
    "pca_rf_selected_reg = RandomForestRegressor(max_depth=12, random_state=1).fit(pca_rf_selected_X, pca_rf_selected_y)\n",
    "print(\"PCA RF TRAIN ERROR\", root_mean_squared_error(rf_selected_y, rf_selected_reg.predict(rf_selected_X)))"
   ]
  },
  {
   "cell_type": "markdown",
   "id": "55",
   "metadata": {},
   "source": [
    "<a id=\"pca-rf-residuals\"></a>\n",
    "\n",
    "### Residuals Checking "
   ]
  },
  {
   "cell_type": "code",
   "execution_count": null,
   "id": "56",
   "metadata": {},
   "outputs": [],
   "source": [
    "pca_rf_residuals = pca_rf_selected_y - pca_rf_selected_reg.predict(pca_rf_selected_X)\n",
    "pca_rf_residuals = pd.DataFrame({\"residuals\": pca_rf_residuals})\n",
    "plt.figure(figsize=(12, 4))\n",
    "plt.hist(pca_rf_residuals[\"residuals\"], bins=75)\n",
    "plt.show()"
   ]
  },
  {
   "cell_type": "code",
   "execution_count": null,
   "id": "57",
   "metadata": {},
   "outputs": [],
   "source": [
    "pca_rf_residuals[(pca_rf_residuals[\"residuals\"].abs() > 0.2)].shape[0]"
   ]
  },
  {
   "cell_type": "markdown",
   "id": "58",
   "metadata": {},
   "source": [
    "<a id=\"pca-rf-final\"></a>\n",
    "\n",
    "### Final training and submission"
   ]
  },
  {
   "cell_type": "code",
   "execution_count": null,
   "id": "59",
   "metadata": {},
   "outputs": [],
   "source": [
    "objects2clear_idx = pca_rf_selected_X[pca_rf_residuals[\"residuals\"].abs() > 0.2].index\n",
    "\n",
    "print(\"IDX OF OBJECTS TO DELETE:\", objects2clear_idx)\n",
    "\n",
    "pca_rf_final_X = pca_rf_selected_X.copy().drop(objects2clear_idx)\n",
    "pca_rf_final_y = pca_rf_selected_y.copy().drop(objects2clear_idx)\n",
    "\n",
    "print(pca_rf_final_X.shape)\n",
    "\n",
    "pca_rf_final_reg = RandomForestRegressor(max_depth=12, random_state=1)\n",
    "\n",
    "cv_scores = cross_val_score(pca_rf_final_reg, pca_rf_final_X, pca_rf_final_y,\n",
    "                           cv=5, scoring=\"neg_root_mean_squared_error\")\n",
    "\n",
    "print(\"FINAL RF CROSSVAL SCORE\", -(cv_scores.sum() / 5))\n",
    "\n",
    "pca_rf_final_reg = pca_rf_final_reg.fit(pca_rf_final_X, pca_rf_final_y)\n",
    "\n",
    "print(\"FINAL RF TRAIN ERROR\", root_mean_squared_error(pca_rf_final_y, pca_rf_final_reg.predict(pca_rf_final_X)))"
   ]
  },
  {
   "cell_type": "code",
   "execution_count": null,
   "id": "60",
   "metadata": {},
   "outputs": [],
   "source": [
    "pca_rf_sub_X = reduced_sub[pca_rf_selected_features]\n",
    "\n",
    "pca_rf_sub_prediction = np.exp(pca_rf_final_reg.predict(pca_rf_sub_X))\n",
    "\n",
    "pca_rf_sub_df = pd.DataFrame({\"Id\": data_sub[\"Id\"], \"SalePrice\": pca_rf_sub_prediction})\n",
    "pca_rf_sub_df.to_csv(\"models/RandomForest/pca_rf_sub.csv\", index=False)"
   ]
  },
  {
   "attachments": {
    "be8b7627-f3ae-41af-ac55-13c025eb8da0.png": {
     "image/png": "[encoded data removed]"
    }
   },
   "cell_type": "markdown",
   "id": "61",
   "metadata": {},
   "source": [
    "Using PCA transformation did not make our predictions better \n",
    "\n",
    "![image.png](attachment:be8b7627-f3ae-41af-ac55-13c025eb8da0.png)"
   ]
  },
  {
   "cell_type": "markdown",
   "id": "62",
   "metadata": {},
   "source": [
    "### Conclusions \n",
    "\n",
    "What can we learn from this notebook? Here we can understand that Modeling approach using Random Forest on initinal features or PCA features cannot lead us to some brilliant or even better than before prediction results. The reason can be simple that there are no good splits in our data in those features.\n",
    "\n",
    "What can we do? We can either do some futher research with our features to try to make them more informative for our Random Forest or just try to use some other models.\n",
    "\n",
    "For now our best public score is still using Ridge regression."
   ]
  },
  {
   "cell_type": "code",
   "execution_count": null,
   "id": "63",
   "metadata": {},
   "outputs": [],
   "source": []
  }
 ],
 "metadata": {
  "kernelspec": {
   "display_name": "Python 3 (ipykernel)",
   "language": "python",
   "name": "python3"
  },
  "language_info": {
   "codemirror_mode": {
    "name": "ipython",
    "version": 3
   },
   "file_extension": ".py",
   "mimetype": "text/x-python",
   "name": "python",
   "nbconvert_exporter": "python",
   "pygments_lexer": "ipython3",
   "version": "3.12.3"
  }
 },
 "nbformat": 4,
 "nbformat_minor": 5
}
