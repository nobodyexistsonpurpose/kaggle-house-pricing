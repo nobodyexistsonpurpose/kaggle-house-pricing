{
 "cells": [
  {
   "cell_type": "markdown",
   "id": "875b5a95-e86f-48fd-a248-854460eb311e",
   "metadata": {},
   "source": [
    "## Decision Trees and Random Forest\n",
    "\n",
    "In this notebook we will use one more basic ml model &ndash; decision trees and their ensemble &ndash; Random Forest."
   ]
  },
  {
   "cell_type": "code",
   "execution_count": 1,
   "id": "db47b118-2f97-4e72-886d-af179f28d323",
   "metadata": {},
   "outputs": [],
   "source": [
    "import pandas as pd\n",
    "import numpy as np\n",
    "import matplotlib.pyplot as plt\n",
    "import plotly.express as px\n",
    "from sklearn.metrics import r2_score, root_mean_squared_error, mean_squared_error\n",
    "from sklearn.ensemble import RandomForestRegressor\n",
    "from sklearn.tree import DecisionTreeRegressor\n",
    "from sklearn.model_selection import GridSearchCV, train_test_split, cross_val_score\n",
    "from sklearn import tree"
   ]
  },
  {
   "cell_type": "markdown",
   "id": "49545639-d7f3-435b-a5a2-58f45f55b839",
   "metadata": {},
   "source": [
    "## Data load"
   ]
  },
  {
   "cell_type": "code",
   "execution_count": 2,
   "id": "95947682-d5c9-481c-a02c-f5777cb5ea16",
   "metadata": {},
   "outputs": [],
   "source": [
    "data = pd.read_csv(\"data/train_without_nans.csv\")\n",
    "data_sub = pd.read_csv(\"data/test_without_nans.csv\")\n",
    "\n",
    "encoded = pd.read_csv(\"data/encoded_train.csv\")\n",
    "encoded_sub = pd.read_csv(\"data/encoded_test.csv\")\n",
    "\n",
    "scaled = pd.read_csv(\"data/scaled_train.csv\")\n",
    "scaled_sub = pd.read_csv(\"data/scaled_test.csv\")\n",
    "\n",
    "reduced = pd.read_csv(\"data/pca50train.csv\")\n",
    "reduced_sub = pd.read_csv(\"data/pca50test.csv\")"
   ]
  },
  {
   "cell_type": "code",
   "execution_count": 3,
   "id": "0eca6a5e-ee1f-4ff2-87b5-e96e4d853c97",
   "metadata": {},
   "outputs": [],
   "source": [
    "scaled_X, scaled_y = scaled.drop(\"SalePrice\", axis=1), scaled[\"SalePrice\"]\n",
    "reduced_X, reduced_y = reduced.drop(\"SalePrice\", axis=1), reduced[\"SalePrice\"]"
   ]
  },
  {
   "cell_type": "markdown",
   "id": "8c25c48c-9580-4f80-bdf2-2f2c9415ee37",
   "metadata": {},
   "source": [
    "## Content\n",
    "\n",
    "<ol>\n",
    "    <li><a href=\"#decision-trees\">Decision Trees</a>\n",
    "        <ul>\n",
    "            <li><a href=\"#dt-feature-importance\">Feature importance</a></li>\n",
    "            <li><a href=\"#dt-cross-validation\">Parameters tuning</a></li>\n",
    "            <li><a href=\"#dt-residuals\">Residuals checking</a></li>\n",
    "        <ul>\n",
    "    </li>\n",
    "    <li><a href=\"#random-forest\">Random Forest</a>\n",
    "        <ul>\n",
    "            <li><a href=\"#rf-cross-validation\">Parameters tuning</a></li>\n",
    "            <li><a href=\"#rf-residuals\">Residuals checking</a></li>\n",
    "            <li><a href=\"#rf-final\">Final Training and submission</a></li>\n",
    "        <ul>\n",
    "    </li>\n",
    "    <li><a href=\"#pca-random-forest\">Random Forest + PCA</a>\n",
    "        <ul>\n",
    "            <li><a href=\"#pca-rf-cross-validation\">Parameters tuning</a></li>\n",
    "            <li><a href=\"#pca-rf-residuals\">Residuals checking</a></li>\n",
    "            <li><a href=\"#pca-rf-final\">Final Training and submission</a></li>\n",
    "        <ul>\n",
    "    </li>\n",
    "</ol>"
   ]
  },
  {
   "cell_type": "markdown",
   "id": "2f3d8ddc-e0f9-433c-9db2-b177b00d9962",
   "metadata": {},
   "source": [
    "<a id=\"decision-trees\"></a>\n",
    "### Decision Trees\n",
    "\n",
    "First of all we can use a simpl decision tree to see how a simple \"building block\" of the random forest can solve our task"
   ]
  },
  {
   "cell_type": "markdown",
   "id": "83145168-fbde-4fd9-afca-6dacc79e658e",
   "metadata": {},
   "source": [
    "<a id=\"dt-feature-importance\"></a>\n",
    "### Feature importance\n",
    "\n",
    "Let's overfit our decision tree to see which features are used by DT to make most of the splits"
   ]
  },
  {
   "cell_type": "code",
   "execution_count": 4,
   "id": "e47d7b09-fbcd-47b8-ac1c-27749f562920",
   "metadata": {},
   "outputs": [
    {
     "data": {
      "text/html": [
       "<div>\n",
       "<style scoped>\n",
       "    .dataframe tbody tr th:only-of-type {\n",
       "        vertical-align: middle;\n",
       "    }\n",
       "\n",
       "    .dataframe tbody tr th {\n",
       "        vertical-align: top;\n",
       "    }\n",
       "\n",
       "    .dataframe thead th {\n",
       "        text-align: right;\n",
       "    }\n",
       "</style>\n",
       "<table border=\"1\" class=\"dataframe\">\n",
       "  <thead>\n",
       "    <tr style=\"text-align: right;\">\n",
       "      <th></th>\n",
       "      <th>importance</th>\n",
       "    </tr>\n",
       "  </thead>\n",
       "  <tbody>\n",
       "    <tr>\n",
       "      <th>OverallQual</th>\n",
       "      <td>0.564757</td>\n",
       "    </tr>\n",
       "    <tr>\n",
       "      <th>GrLivArea</th>\n",
       "      <td>0.126723</td>\n",
       "    </tr>\n",
       "    <tr>\n",
       "      <th>TotalBsmtSF</th>\n",
       "      <td>0.069290</td>\n",
       "    </tr>\n",
       "    <tr>\n",
       "      <th>CentralAir</th>\n",
       "      <td>0.017948</td>\n",
       "    </tr>\n",
       "    <tr>\n",
       "      <th>YearBuilt</th>\n",
       "      <td>0.017873</td>\n",
       "    </tr>\n",
       "  </tbody>\n",
       "</table>\n",
       "</div>"
      ],
      "text/plain": [
       "             importance\n",
       "OverallQual    0.564757\n",
       "GrLivArea      0.126723\n",
       "TotalBsmtSF    0.069290\n",
       "CentralAir     0.017948\n",
       "YearBuilt      0.017873"
      ]
     },
     "execution_count": 4,
     "metadata": {},
     "output_type": "execute_result"
    }
   ],
   "source": [
    "dt_overfitted_reg = DecisionTreeRegressor(random_state=1)\n",
    "dt_overfitted_reg.fit(scaled_X, scaled_y)\n",
    "\n",
    "feat_importances = pd.DataFrame({\"importance\": dt_overfitted_reg.feature_importances_}).set_index(scaled_X.columns)\n",
    "feat_importances.sort_values(by=\"importance\", ascending=False).head(n=5)"
   ]
  },
  {
   "cell_type": "markdown",
   "id": "28e8f26a-7c5e-4e24-a4af-78a6870231ac",
   "metadata": {},
   "source": [
    "A simple decision tree makes almost all of the splits along OverallQual feature. It means that splitting along that feature gives us the most increase in informativity in almost 60% of cases.\n",
    "\n",
    "There are many features which have feature importance less than 0.01"
   ]
  },
  {
   "cell_type": "code",
   "execution_count": 5,
   "id": "7ce42969-c765-486f-9717-a9eda2926491",
   "metadata": {},
   "outputs": [
    {
     "data": {
      "text/plain": [
       "(304, 1)"
      ]
     },
     "execution_count": 5,
     "metadata": {},
     "output_type": "execute_result"
    }
   ],
   "source": [
    "feat_importances[feat_importances[\"importance\"] < 0.01].shape"
   ]
  },
  {
   "cell_type": "markdown",
   "id": "d77db680-9ab5-454d-a699-f8cd05159c78",
   "metadata": {},
   "source": [
    "Let's take all features with importances bigger or equal than 0.01 "
   ]
  },
  {
   "cell_type": "code",
   "execution_count": 6,
   "id": "6e570dda-4d95-4b2f-86c4-924cdfdb301f",
   "metadata": {},
   "outputs": [],
   "source": [
    "dt_selected_features = feat_importances[feat_importances[\"importance\"] >= 0.01].index.values\n",
    "\n",
    "dt_selected_X = scaled_X[dt_selected_features]\n",
    "dt_selected_y = scaled_y"
   ]
  },
  {
   "cell_type": "markdown",
   "id": "dc860679-d388-40d9-9bf4-fe2eb17ce71a",
   "metadata": {},
   "source": [
    "<a id=\"dt-cross-validation\"></a>\n",
    "## Parameters Tuning\n",
    "\n",
    "Now we can check which decision tree hyperparameters give us the best cross validation score on our data.\n",
    "\n",
    "For a single decision tree we can bruteforce many combination of parameters for a pretty normal time. For example for the Random Forest it takes much more time."
   ]
  },
  {
   "cell_type": "code",
   "execution_count": 7,
   "id": "d5eefb44-6acd-4e97-802c-16f729d131d7",
   "metadata": {},
   "outputs": [
    {
     "name": "stdout",
     "output_type": "stream",
     "text": [
      "BEST DT PARAMS: {'max_depth': 11, 'min_samples_leaf': 8, 'random_state': 1}\n"
     ]
    }
   ],
   "source": [
    "parameters = {\"max_depth\": [i for i in range(2, 20)],\n",
    "              \"min_samples_leaf\": [i for i in range(1, 20)],\n",
    "              \"random_state\": [1]}\n",
    "\n",
    "dt_grid = GridSearchCV(DecisionTreeRegressor(), parameters, cv=5,\n",
    "                       scoring=\"neg_root_mean_squared_error\")\n",
    "dt_grid.fit(dt_selected_X, dt_selected_y)\n",
    "print(\"BEST DT PARAMS:\", dt_grid.best_params_)"
   ]
  },
  {
   "cell_type": "code",
   "execution_count": 8,
   "id": "18cad5f7-62d5-4ddc-9749-3c9946dbccbf",
   "metadata": {},
   "outputs": [
    {
     "name": "stdout",
     "output_type": "stream",
     "text": [
      "BEST DT CROSSVAL SCORE: 0.17294849024961553\n"
     ]
    }
   ],
   "source": [
    "print(\"BEST DT CROSSVAL SCORE:\", -dt_grid.best_score_)"
   ]
  },
  {
   "cell_type": "markdown",
   "id": "6b2a8542-5c4e-4c54-ab63-72b1f158d8fd",
   "metadata": {},
   "source": [
    "That's a pretty poor score. And there is nothing strange about this because a single decision tree is a very weak model."
   ]
  },
  {
   "cell_type": "code",
   "execution_count": 9,
   "id": "9534d01c-dabc-4363-ba27-7359a821bf29",
   "metadata": {},
   "outputs": [],
   "source": [
    "dt_selected_reg = DecisionTreeRegressor(max_depth=11, min_samples_leaf=8, random_state=1).fit(dt_selected_X, dt_selected_y)"
   ]
  },
  {
   "cell_type": "code",
   "execution_count": 10,
   "id": "c55a0e75-367d-4780-b0ac-fc7cc3376cf1",
   "metadata": {},
   "outputs": [
    {
     "name": "stdout",
     "output_type": "stream",
     "text": [
      "DT TRAIN ERROR 0.1277149703814946\n"
     ]
    }
   ],
   "source": [
    "print(\"DT TRAIN ERROR\", root_mean_squared_error(dt_selected_y, dt_selected_reg.predict(dt_selected_X)))"
   ]
  },
  {
   "cell_type": "markdown",
   "id": "fa18d573-21a4-4a63-9a29-3fbdce3a2291",
   "metadata": {},
   "source": [
    "Even on train set our decision tree gives us almost the same result as the Ridge Regression on the cross validation"
   ]
  },
  {
   "cell_type": "markdown",
   "id": "839022fb-5ec0-448b-9090-8fe7d2d530b8",
   "metadata": {},
   "source": [
    "<a id=\"dt-residuals\"></a>\n",
    "\n",
    "### Residuals Checking \n",
    "\n",
    "We will not make a submission with a single decision tree but we can look how its residuals are distributed with respect to the model predictions"
   ]
  },
  {
   "cell_type": "code",
   "execution_count": 11,
   "id": "190723a4-bfac-41ac-8f96-39084613fb6e",
   "metadata": {},
   "outputs": [
    {
     "data": {
      "image/png": "[encoded data removed]",
      "text/plain": [
       "<Figure size 1200x400 with 1 Axes>"
      ]
     },
     "metadata": {},
     "output_type": "display_data"
    }
   ],
   "source": [
    "dt_residuals = dt_selected_y - dt_selected_reg.predict(dt_selected_X)\n",
    "dt_residuals = pd.DataFrame({\"residuals\": dt_residuals})\n",
    "plt.figure(figsize=(12, 4))\n",
    "plt.hist(dt_residuals[\"residuals\"], bins=75)\n",
    "plt.show()"
   ]
  },
  {
   "cell_type": "markdown",
   "id": "6f2c1aab-28e9-49e8-9c83-0383f95a691b",
   "metadata": {},
   "source": [
    "If we recall our plot for residuals after the Ridge regression we can undestand that the simple decision tree has a bigger variance of the error. "
   ]
  },
  {
   "cell_type": "markdown",
   "id": "0219fb0a-1a9d-4771-a843-d4a0911e0391",
   "metadata": {},
   "source": [
    "<a id=\"random-forest\"></a>\n",
    "## Random Forest\n",
    "\n",
    "Now let's take a look at how the ensemble of weak Decision Trees can solve our problem. Generally ensemble models are axactly the ones who can be used to decrease the variance of the error of the single model."
   ]
  },
  {
   "cell_type": "code",
   "execution_count": 12,
   "id": "9d1b750c-95ae-471f-8e3d-47b90628c5b0",
   "metadata": {},
   "outputs": [
    {
     "data": {
      "text/html": [
       "<div>\n",
       "<style scoped>\n",
       "    .dataframe tbody tr th:only-of-type {\n",
       "        vertical-align: middle;\n",
       "    }\n",
       "\n",
       "    .dataframe tbody tr th {\n",
       "        vertical-align: top;\n",
       "    }\n",
       "\n",
       "    .dataframe thead th {\n",
       "        text-align: right;\n",
       "    }\n",
       "</style>\n",
       "<table border=\"1\" class=\"dataframe\">\n",
       "  <thead>\n",
       "    <tr style=\"text-align: right;\">\n",
       "      <th></th>\n",
       "      <th>importance</th>\n",
       "    </tr>\n",
       "  </thead>\n",
       "  <tbody>\n",
       "    <tr>\n",
       "      <th>OverallQual</th>\n",
       "      <td>0.548059</td>\n",
       "    </tr>\n",
       "    <tr>\n",
       "      <th>GrLivArea</th>\n",
       "      <td>0.114866</td>\n",
       "    </tr>\n",
       "    <tr>\n",
       "      <th>TotalBsmtSF</th>\n",
       "      <td>0.046414</td>\n",
       "    </tr>\n",
       "    <tr>\n",
       "      <th>GarageCars</th>\n",
       "      <td>0.040987</td>\n",
       "    </tr>\n",
       "    <tr>\n",
       "      <th>1stFlrSF</th>\n",
       "      <td>0.022919</td>\n",
       "    </tr>\n",
       "    <tr>\n",
       "      <th>GarageArea</th>\n",
       "      <td>0.021734</td>\n",
       "    </tr>\n",
       "    <tr>\n",
       "      <th>BsmtFinSF1</th>\n",
       "      <td>0.021235</td>\n",
       "    </tr>\n",
       "    <tr>\n",
       "      <th>LotArea</th>\n",
       "      <td>0.013537</td>\n",
       "    </tr>\n",
       "    <tr>\n",
       "      <th>CentralAir</th>\n",
       "      <td>0.012470</td>\n",
       "    </tr>\n",
       "    <tr>\n",
       "      <th>YearBuilt</th>\n",
       "      <td>0.012107</td>\n",
       "    </tr>\n",
       "  </tbody>\n",
       "</table>\n",
       "</div>"
      ],
      "text/plain": [
       "             importance\n",
       "OverallQual    0.548059\n",
       "GrLivArea      0.114866\n",
       "TotalBsmtSF    0.046414\n",
       "GarageCars     0.040987\n",
       "1stFlrSF       0.022919\n",
       "GarageArea     0.021734\n",
       "BsmtFinSF1     0.021235\n",
       "LotArea        0.013537\n",
       "CentralAir     0.012470\n",
       "YearBuilt      0.012107"
      ]
     },
     "execution_count": 12,
     "metadata": {},
     "output_type": "execute_result"
    }
   ],
   "source": [
    "rf_overfitted_reg = RandomForestRegressor(random_state=1)\n",
    "rf_overfitted_reg.fit(scaled_X, scaled_y)\n",
    "\n",
    "rf_feat_importances = pd.DataFrame({\"importance\": rf_overfitted_reg.feature_importances_}).set_index(scaled_X.columns)\n",
    "rf_feat_importances.sort_values(by=\"importance\", ascending=False).head(n=10)"
   ]
  },
  {
   "cell_type": "markdown",
   "id": "a3114a99-27a9-447c-b494-f32338a9482a",
   "metadata": {},
   "source": [
    "We have almost the same list of top-affecting features."
   ]
  },
  {
   "cell_type": "code",
   "execution_count": 13,
   "id": "900af860-e46a-4f95-b461-899d98fa34d5",
   "metadata": {},
   "outputs": [
    {
     "data": {
      "text/plain": [
       "(298, 1)"
      ]
     },
     "execution_count": 13,
     "metadata": {},
     "output_type": "execute_result"
    }
   ],
   "source": [
    "rf_feat_importances[rf_feat_importances[\"importance\"] < 0.005].shape"
   ]
  },
  {
   "cell_type": "code",
   "execution_count": 14,
   "id": "f52bfae2-729d-4a25-982f-4bb2f22e65d9",
   "metadata": {},
   "outputs": [],
   "source": [
    "rf_selected_features = rf_feat_importances[rf_feat_importances[\"importance\"] >= 0.005].index.values\n",
    "\n",
    "rf_selected_X = scaled_X[rf_selected_features]\n",
    "rf_selected_y = scaled_y"
   ]
  },
  {
   "cell_type": "markdown",
   "id": "ebf9a148-f7ed-44f0-8d96-bcbbe730a6aa",
   "metadata": {},
   "source": [
    "<a id=\"rf-cross-validation\"></a>\n",
    "## Parameters Tuning\n",
    "\n",
    "If we use too many combinations of parameters we will wait too long for our cross validation so we will tune only **max_depth** parameter to see how our Random Forest performs on our data at least nearly."
   ]
  },
  {
   "cell_type": "code",
   "execution_count": 15,
   "id": "fe731fdb-56dd-43ef-b582-133b09178d75",
   "metadata": {},
   "outputs": [
    {
     "name": "stdout",
     "output_type": "stream",
     "text": [
      "BEST RF PARAMS: {'max_depth': 15, 'random_state': 1}\n"
     ]
    }
   ],
   "source": [
    "parameters = {\"max_depth\": [i for i in range(1, 35)],\n",
    "              \"random_state\": [1]}\n",
    "\n",
    "rf_grid = GridSearchCV(RandomForestRegressor(), parameters, cv=5,\n",
    "                       scoring=\"neg_root_mean_squared_error\")\n",
    "rf_grid.fit(rf_selected_X, rf_selected_y)\n",
    "print(\"BEST RF PARAMS:\", rf_grid.best_params_)"
   ]
  },
  {
   "cell_type": "code",
   "execution_count": 16,
   "id": "12fb7e4a-8396-4d39-b1fd-18ce54f9c8ef",
   "metadata": {},
   "outputs": [
    {
     "name": "stdout",
     "output_type": "stream",
     "text": [
      "BEST RF CROSSVAL SCORE: 0.14633374211504896\n"
     ]
    }
   ],
   "source": [
    "print(\"BEST RF CROSSVAL SCORE:\", -rf_grid.best_score_)"
   ]
  },
  {
   "cell_type": "markdown",
   "id": "e1a8f487-d1b9-40d7-a766-74c3e41235a2",
   "metadata": {},
   "source": [
    "Random Forest gave us much better cross validation scores than a single decision tree. But if we check once again our file with linear models we can see that ridge regression gave us better validation score. Yes, we've used LOOCV during the ridge regression training and not k-fold with k=5 validation but even now we can say that probably decision trees and Random Forest cannot solve our task so good as linear model with regularization.\n",
    "\n",
    "But of course first of all we need to check the performance of our Random Forest Regressor after we remove objects which give us large residuals. If there are some outliers with respect to the target variable they can badly afect our model."
   ]
  },
  {
   "cell_type": "code",
   "execution_count": 21,
   "id": "c0b69739-c011-4947-9466-8a0ded61eb55",
   "metadata": {},
   "outputs": [],
   "source": [
    "rf_selected_reg = RandomForestRegressor(max_depth=15, random_state=1).fit(rf_selected_X, rf_selected_y)"
   ]
  },
  {
   "cell_type": "code",
   "execution_count": 22,
   "id": "f9d2fa8c-a798-48a3-829f-16d39a53284e",
   "metadata": {},
   "outputs": [
    {
     "name": "stdout",
     "output_type": "stream",
     "text": [
      "RF TRAIN ERROR 0.05372528847204457\n"
     ]
    }
   ],
   "source": [
    "print(\"RF TRAIN ERROR\", root_mean_squared_error(rf_selected_y, rf_selected_reg.predict(rf_selected_X)))"
   ]
  },
  {
   "cell_type": "markdown",
   "id": "f3a841a6-5c63-4fbc-984c-576b57cb35bc",
   "metadata": {},
   "source": [
    "That's an unbelievable good score but only on the train set. I don't think we will have the same result on the validation set."
   ]
  },
  {
   "cell_type": "markdown",
   "id": "f84d6e01-b0c8-43db-95bb-fb019aa74d2d",
   "metadata": {},
   "source": [
    "<a id=\"rf-residuals\"></a>\n",
    "\n",
    "### Residuals Checking "
   ]
  },
  {
   "cell_type": "code",
   "execution_count": 23,
   "id": "0e4594e3-c476-48cd-bba9-7e4bde03ed32",
   "metadata": {},
   "outputs": [
    {
     "data": {
      "image/png": "[encoded data removed]",
      "text/plain": [
       "<Figure size 1200x400 with 1 Axes>"
      ]
     },
     "metadata": {},
     "output_type": "display_data"
    }
   ],
   "source": [
    "rf_residuals = rf_selected_y - rf_selected_reg.predict(rf_selected_X)\n",
    "rf_residuals = pd.DataFrame({\"residuals\": rf_residuals})\n",
    "plt.figure(figsize=(12, 4))\n",
    "plt.hist(rf_residuals[\"residuals\"], bins=75)\n",
    "plt.show()"
   ]
  },
  {
   "cell_type": "markdown",
   "id": "7826bd37-2c4f-4c6b-9a85-cda31a397ac3",
   "metadata": {},
   "source": [
    "Here we also have some objects which give us some big residuals with respect to other objects. As well we saw it with linear models.\n",
    "Let's delete objects with residual higher than 0.15"
   ]
  },
  {
   "cell_type": "code",
   "execution_count": 24,
   "id": "c509c55d-1bdb-4c60-ac3c-bf775b2183b7",
   "metadata": {},
   "outputs": [
    {
     "data": {
      "text/plain": [
       "28"
      ]
     },
     "execution_count": 24,
     "metadata": {},
     "output_type": "execute_result"
    }
   ],
   "source": [
    "rf_residuals[(rf_residuals[\"residuals\"].abs() > 0.15)].shape[0]"
   ]
  },
  {
   "cell_type": "markdown",
   "id": "f16fbacb-b7b4-4af3-a810-4a6fa186ef06",
   "metadata": {},
   "source": [
    "<a id=\"rf-final\"></a>\n",
    "\n",
    "### Final training and submission"
   ]
  },
  {
   "cell_type": "code",
   "execution_count": 25,
   "id": "773ef6b3-41a4-44cf-b2ca-a26902d3441a",
   "metadata": {},
   "outputs": [
    {
     "name": "stdout",
     "output_type": "stream",
     "text": [
      "IDX OF OBJECTS TO DELETE: Index([  30,   93,  137,  197,  410,  451,  457,  462,  495,  523,  632,  666,\n",
      "        688,  710,  812,  874,  898,  916,  968,  970, 1062, 1216, 1279, 1298,\n",
      "       1324, 1349, 1431, 1452],\n",
      "      dtype='int64')\n",
      "(1431, 15)\n",
      "FINAL RF CROSSVAL SCORE 0.1197569433687828\n",
      "FINAL RF TRAIN ERROR 0.0445078524542221\n"
     ]
    }
   ],
   "source": [
    "objects2clear_idx = rf_selected_X[rf_residuals[\"residuals\"].abs() > 0.15].index\n",
    "\n",
    "print(\"IDX OF OBJECTS TO DELETE:\", objects2clear_idx)\n",
    "\n",
    "rf_final_X = rf_selected_X.copy().drop(objects2clear_idx)\n",
    "rf_final_y = rf_selected_y.copy().drop(objects2clear_idx)\n",
    "\n",
    "print(rf_final_X.shape)\n",
    "\n",
    "rf_final_reg = RandomForestRegressor(max_depth=15, random_state=1)\n",
    "\n",
    "cv_scores = cross_val_score(rf_final_reg, rf_final_X, rf_final_y,\n",
    "                           cv=5, scoring=\"neg_root_mean_squared_error\")\n",
    "\n",
    "print(\"FINAL RF CROSSVAL SCORE\", -(cv_scores.sum() / 5))\n",
    "\n",
    "rf_final_reg = rf_final_reg.fit(rf_final_X, rf_final_y)\n",
    "\n",
    "print(\"FINAL RF TRAIN ERROR\", root_mean_squared_error(rf_final_y, rf_final_reg.predict(rf_final_X)))"
   ]
  },
  {
   "cell_type": "code",
   "execution_count": 26,
   "id": "8333d6e0-df37-4c81-88e8-9efb88d0b9e9",
   "metadata": {},
   "outputs": [],
   "source": [
    "rf_final_residuals = rf_final_y - rf_final_reg.predict(rf_final_X)"
   ]
  },
  {
   "cell_type": "code",
   "execution_count": 27,
   "id": "b511532d-568c-430d-8df2-eb81bcc9b1e9",
   "metadata": {},
   "outputs": [
    {
     "data": {
      "text/plain": [
       "<matplotlib.collections.PathCollection at 0x7d0f230d5710>"
      ]
     },
     "execution_count": 27,
     "metadata": {},
     "output_type": "execute_result"
    },
    {
     "data": {
      "image/png": "[encoded data removed]",
      "text/plain": [
       "<Figure size 1200x400 with 1 Axes>"
      ]
     },
     "metadata": {},
     "output_type": "display_data"
    }
   ],
   "source": [
    "plt.figure(figsize=(12, 4))\n",
    "plt.scatter(rf_final_reg.predict(rf_final_X), rf_final_residuals)"
   ]
  },
  {
   "cell_type": "markdown",
   "id": "3133c546-3f04-444e-a1e6-37fdc9cfac21",
   "metadata": {},
   "source": [
    "Let's try to submit our results"
   ]
  },
  {
   "cell_type": "code",
   "execution_count": 28,
   "id": "5f6ef811-17df-4809-abde-652ecbba803d",
   "metadata": {},
   "outputs": [],
   "source": [
    "rf_sub_X = scaled_sub[rf_selected_features]\n",
    "\n",
    "rf_sub_prediction = np.exp(rf_final_reg.predict(rf_sub_X))\n",
    "\n",
    "rf_sub_df = pd.DataFrame({\"Id\": data_sub[\"Id\"], \"SalePrice\": rf_sub_prediction})\n",
    "rf_sub_df.to_csv(\"models/RandomForest/rf_sub.csv\", index=False)"
   ]
  },
  {
   "attachments": {
    "90fd7401-6e1e-472d-8d68-5eb28f2d810e.png": {
     "image/png": "[encoded data removed]"
    }
   },
   "cell_type": "markdown",
   "id": "3af6f669-1589-4277-9b52-5f45ce1e7767",
   "metadata": {},
   "source": [
    "Unfortunately after feature selection, outliers removing and max_depth parameter bruteforcing we received even worse result than just with a baseline overfitted RandomForest. Even the fact than CV score was nearly 0.12 we receive validation score 0.15\n",
    "\n",
    "![image.png](attachment:90fd7401-6e1e-472d-8d68-5eb28f2d810e.png)\n",
    "\n",
    "Generally we can accept that Random Forest cannot normally solve our problem on the initial encoded and scaled data. Ridge regression gave us better result.\n",
    "\n",
    "It means that in our dataset there are no good splitting along the features which can split our dataset into some groups with nearly the same prices."
   ]
  },
  {
   "cell_type": "markdown",
   "id": "3c0c8034-1ba5-4efc-be6b-88335d9763a2",
   "metadata": {},
   "source": [
    "<a id=\"pca-random-forest\"></a>\n",
    "## Random Forest + PCA\n",
    "\n",
    "Let's try to use our Random Forest along the PCA coordinates. As we said the problem of poor performance of our Random Forest above can appear because in initial feature space there are no obvious splitting which give us good increase in informativity.\n",
    "\n",
    "On the other hand PCA is a method which transform our data so in new feature space we have the largest possible variance along each feature. Perhaps in new features there are some good splitting for DT's and RF."
   ]
  },
  {
   "cell_type": "code",
   "execution_count": 30,
   "id": "d88a66db-4287-4fd7-a5de-4795e1856a00",
   "metadata": {},
   "outputs": [
    {
     "data": {
      "text/html": [
       "<div>\n",
       "<style scoped>\n",
       "    .dataframe tbody tr th:only-of-type {\n",
       "        vertical-align: middle;\n",
       "    }\n",
       "\n",
       "    .dataframe tbody tr th {\n",
       "        vertical-align: top;\n",
       "    }\n",
       "\n",
       "    .dataframe thead th {\n",
       "        text-align: right;\n",
       "    }\n",
       "</style>\n",
       "<table border=\"1\" class=\"dataframe\">\n",
       "  <thead>\n",
       "    <tr style=\"text-align: right;\">\n",
       "      <th></th>\n",
       "      <th>importance</th>\n",
       "    </tr>\n",
       "  </thead>\n",
       "  <tbody>\n",
       "    <tr>\n",
       "      <th>pc1</th>\n",
       "      <td>0.846987</td>\n",
       "    </tr>\n",
       "    <tr>\n",
       "      <th>pc6</th>\n",
       "      <td>0.020482</td>\n",
       "    </tr>\n",
       "    <tr>\n",
       "      <th>pc3</th>\n",
       "      <td>0.010423</td>\n",
       "    </tr>\n",
       "    <tr>\n",
       "      <th>pc20</th>\n",
       "      <td>0.007092</td>\n",
       "    </tr>\n",
       "    <tr>\n",
       "      <th>pc24</th>\n",
       "      <td>0.005660</td>\n",
       "    </tr>\n",
       "    <tr>\n",
       "      <th>pc27</th>\n",
       "      <td>0.005003</td>\n",
       "    </tr>\n",
       "    <tr>\n",
       "      <th>pc4</th>\n",
       "      <td>0.004588</td>\n",
       "    </tr>\n",
       "    <tr>\n",
       "      <th>pc25</th>\n",
       "      <td>0.004135</td>\n",
       "    </tr>\n",
       "    <tr>\n",
       "      <th>pc34</th>\n",
       "      <td>0.003684</td>\n",
       "    </tr>\n",
       "    <tr>\n",
       "      <th>pc48</th>\n",
       "      <td>0.003625</td>\n",
       "    </tr>\n",
       "  </tbody>\n",
       "</table>\n",
       "</div>"
      ],
      "text/plain": [
       "      importance\n",
       "pc1     0.846987\n",
       "pc6     0.020482\n",
       "pc3     0.010423\n",
       "pc20    0.007092\n",
       "pc24    0.005660\n",
       "pc27    0.005003\n",
       "pc4     0.004588\n",
       "pc25    0.004135\n",
       "pc34    0.003684\n",
       "pc48    0.003625"
      ]
     },
     "execution_count": 30,
     "metadata": {},
     "output_type": "execute_result"
    }
   ],
   "source": [
    "pca_rf_overfitted_reg = RandomForestRegressor(random_state=1)\n",
    "pca_rf_overfitted_reg.fit(reduced_X, reduced_y)\n",
    "\n",
    "pca_rf_feat_importances = pd.DataFrame({\"importance\": pca_rf_overfitted_reg.feature_importances_}).set_index(reduced_X.columns)\n",
    "pca_rf_feat_importances.sort_values(by=\"importance\", ascending=False).head(n=10)"
   ]
  },
  {
   "cell_type": "markdown",
   "id": "d7712db6-2388-4a74-90c4-0e859b0dfd86",
   "metadata": {},
   "source": [
    "Almost all splitting are made exactly along the first principal component. This is the component with the highest correlation with the target variable. "
   ]
  },
  {
   "cell_type": "code",
   "execution_count": 31,
   "id": "5ceba58c-22f1-4080-95e1-da6706656b55",
   "metadata": {},
   "outputs": [],
   "source": [
    "pca_rf_selected_features = pca_rf_feat_importances[pca_rf_feat_importances[\"importance\"] >= 0.005].index.values\n",
    "\n",
    "pca_rf_selected_X = reduced_X[pca_rf_selected_features]\n",
    "pca_rf_selected_y = reduced_y"
   ]
  },
  {
   "cell_type": "markdown",
   "id": "7d15e049-90cb-4e6b-8959-360ea94b9afa",
   "metadata": {},
   "source": [
    "<a id=\"pca-rf-cross-validation\"></a>\n",
    "### Parameter tuning"
   ]
  },
  {
   "cell_type": "code",
   "execution_count": 33,
   "id": "d788360a-6589-4791-bda7-a5817793a8d9",
   "metadata": {},
   "outputs": [
    {
     "name": "stdout",
     "output_type": "stream",
     "text": [
      "BEST PCA RF PARAMS: {'max_depth': 12, 'random_state': 1}\n"
     ]
    }
   ],
   "source": [
    "parameters = {\"max_depth\": [i for i in range(1, 35)],\n",
    "              \"random_state\": [1]}\n",
    "\n",
    "pca_rf_grid = GridSearchCV(RandomForestRegressor(), parameters, cv=5,\n",
    "                       scoring=\"neg_root_mean_squared_error\")\n",
    "pca_rf_grid.fit(pca_rf_selected_X, pca_rf_selected_y)\n",
    "print(\"BEST PCA RF PARAMS:\", pca_rf_grid.best_params_)"
   ]
  },
  {
   "cell_type": "code",
   "execution_count": 34,
   "id": "b6434814-f265-4a6a-9ce7-ab0ae422cd90",
   "metadata": {},
   "outputs": [
    {
     "name": "stdout",
     "output_type": "stream",
     "text": [
      "BEST PCA RF CROSSVAL SCORE: 0.14247129174556522\n"
     ]
    }
   ],
   "source": [
    "print(\"BEST PCA RF CROSSVAL SCORE:\", -pca_rf_grid.best_score_)"
   ]
  },
  {
   "cell_type": "markdown",
   "id": "2a5347be-24bb-43c0-8ca8-b6d269abd03f",
   "metadata": {},
   "source": [
    "This CV score is a little bit better than CV score after feature selection using Random Forest without PCA"
   ]
  },
  {
   "cell_type": "code",
   "execution_count": 35,
   "id": "2cdf790c-65be-40b0-9d89-128f26e9bec8",
   "metadata": {},
   "outputs": [
    {
     "name": "stdout",
     "output_type": "stream",
     "text": [
      "PCA RF TRAIN ERROR 0.05372528847204457\n"
     ]
    }
   ],
   "source": [
    "pca_rf_selected_reg = RandomForestRegressor(max_depth=12, random_state=1).fit(pca_rf_selected_X, pca_rf_selected_y)\n",
    "print(\"PCA RF TRAIN ERROR\", root_mean_squared_error(rf_selected_y, rf_selected_reg.predict(rf_selected_X)))"
   ]
  },
  {
   "cell_type": "markdown",
   "id": "114560ee-c0b4-413f-a768-e49c451d91d6",
   "metadata": {},
   "source": [
    "<a id=\"pca-rf-residuals\"></a>\n",
    "\n",
    "### Residuals Checking "
   ]
  },
  {
   "cell_type": "code",
   "execution_count": 36,
   "id": "1c542280-a0af-478c-aa0b-3d0ac819ee35",
   "metadata": {},
   "outputs": [
    {
     "data": {
      "image/png": "[encoded data removed]",
      "text/plain": [
       "<Figure size 1200x400 with 1 Axes>"
      ]
     },
     "metadata": {},
     "output_type": "display_data"
    }
   ],
   "source": [
    "pca_rf_residuals = pca_rf_selected_y - pca_rf_selected_reg.predict(pca_rf_selected_X)\n",
    "pca_rf_residuals = pd.DataFrame({\"residuals\": pca_rf_residuals})\n",
    "plt.figure(figsize=(12, 4))\n",
    "plt.hist(pca_rf_residuals[\"residuals\"], bins=75)\n",
    "plt.show()"
   ]
  },
  {
   "cell_type": "code",
   "execution_count": 38,
   "id": "46cefff0-35e8-4494-a7ab-548a6f35c31a",
   "metadata": {},
   "outputs": [
    {
     "data": {
      "text/plain": [
       "14"
      ]
     },
     "execution_count": 38,
     "metadata": {},
     "output_type": "execute_result"
    }
   ],
   "source": [
    "pca_rf_residuals[(pca_rf_residuals[\"residuals\"].abs() > 0.2)].shape[0]"
   ]
  },
  {
   "cell_type": "markdown",
   "id": "9f7ae9b8-af4e-47a7-b5b0-ebc57cc722d1",
   "metadata": {},
   "source": [
    "<a id=\"pca-rf-final\"></a>\n",
    "\n",
    "### Final training and submission"
   ]
  },
  {
   "cell_type": "code",
   "execution_count": 39,
   "id": "4541a489-a48f-4b73-8d13-9aac671a41fc",
   "metadata": {},
   "outputs": [
    {
     "name": "stdout",
     "output_type": "stream",
     "text": [
      "IDX OF OBJECTS TO DELETE: Index([30, 410, 462, 495, 523, 632, 688, 710, 812, 916, 968, 1182, 1298, 1431], dtype='int64')\n",
      "(1445, 6)\n",
      "FINAL RF CROSSVAL SCORE 0.1233773312032513\n",
      "FINAL RF TRAIN ERROR 0.051330446043176256\n"
     ]
    }
   ],
   "source": [
    "objects2clear_idx = pca_rf_selected_X[pca_rf_residuals[\"residuals\"].abs() > 0.2].index\n",
    "\n",
    "print(\"IDX OF OBJECTS TO DELETE:\", objects2clear_idx)\n",
    "\n",
    "pca_rf_final_X = pca_rf_selected_X.copy().drop(objects2clear_idx)\n",
    "pca_rf_final_y = pca_rf_selected_y.copy().drop(objects2clear_idx)\n",
    "\n",
    "print(pca_rf_final_X.shape)\n",
    "\n",
    "pca_rf_final_reg = RandomForestRegressor(max_depth=12, random_state=1)\n",
    "\n",
    "cv_scores = cross_val_score(pca_rf_final_reg, pca_rf_final_X, pca_rf_final_y,\n",
    "                           cv=5, scoring=\"neg_root_mean_squared_error\")\n",
    "\n",
    "print(\"FINAL RF CROSSVAL SCORE\", -(cv_scores.sum() / 5))\n",
    "\n",
    "pca_rf_final_reg = pca_rf_final_reg.fit(pca_rf_final_X, pca_rf_final_y)\n",
    "\n",
    "print(\"FINAL RF TRAIN ERROR\", root_mean_squared_error(pca_rf_final_y, pca_rf_final_reg.predict(pca_rf_final_X)))"
   ]
  },
  {
   "cell_type": "code",
   "execution_count": 40,
   "id": "e0834ee6-f1fb-4abd-967b-06b8054f5628",
   "metadata": {},
   "outputs": [],
   "source": [
    "pca_rf_sub_X = reduced_sub[pca_rf_selected_features]\n",
    "\n",
    "pca_rf_sub_prediction = np.exp(pca_rf_final_reg.predict(pca_rf_sub_X))\n",
    "\n",
    "pca_rf_sub_df = pd.DataFrame({\"Id\": data_sub[\"Id\"], \"SalePrice\": pca_rf_sub_prediction})\n",
    "pca_rf_sub_df.to_csv(\"models/RandomForest/pca_rf_sub.csv\", index=False)"
   ]
  },
  {
   "attachments": {
    "be8b7627-f3ae-41af-ac55-13c025eb8da0.png": {
     "image/png": "[encoded data removed]"
    }
   },
   "cell_type": "markdown",
   "id": "d9b501cc-9c8a-4f13-bc6f-fc778cbf861a",
   "metadata": {},
   "source": [
    "Using PCA transformation did not make our predictions better \n",
    "\n",
    "![image.png](attachment:be8b7627-f3ae-41af-ac55-13c025eb8da0.png)"
   ]
  },
  {
   "cell_type": "markdown",
   "id": "7a3e7922-6afd-4152-b81e-3f179f2ba24a",
   "metadata": {},
   "source": [
    "### Conclusions \n",
    "\n",
    "What can we learn from this notebook? Here we can understand that Modeling approach using Random Forest on initinal features or PCA features cannot lead us to some brilliant or even better than before prediction results. The reason can be simple that there are no good splits in our data in those features.\n",
    "\n",
    "What can we do? We can either do some futher research with our features to try to make them more informative for our Random Forest or just try to use some other models.\n",
    "\n",
    "For now our best public score is still using Ridge regression."
   ]
  },
  {
   "cell_type": "code",
   "execution_count": null,
   "id": "f7edaaac-66cb-49f9-ad51-8ce7a838600b",
   "metadata": {},
   "outputs": [],
   "source": []
  }
 ],
 "metadata": {
  "kernelspec": {
   "display_name": "Python 3 (ipykernel)",
   "language": "python",
   "name": "python3"
  },
  "language_info": {
   "codemirror_mode": {
    "name": "ipython",
    "version": 3
   },
   "file_extension": ".py",
   "mimetype": "text/x-python",
   "name": "python",
   "nbconvert_exporter": "python",
   "pygments_lexer": "ipython3",
   "version": "3.11.6"
  }
 },
 "nbformat": 4,
 "nbformat_minor": 5
}
