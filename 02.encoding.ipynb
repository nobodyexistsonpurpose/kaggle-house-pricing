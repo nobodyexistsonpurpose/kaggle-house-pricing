{
 "cells": [
  {
   "cell_type": "markdown",
   "id": "e12f70ae-af5c-445a-8aa2-6b37c3ceb1ba",
   "metadata": {},
   "source": [
    "## Encoding "
   ]
  },
  {
   "cell_type": "code",
   "execution_count": 1,
   "id": "fa71f9f3-477f-47c5-bf8b-d82ee49fb55e",
   "metadata": {},
   "outputs": [],
   "source": [
    "import pandas as pd\n",
    "import numpy as np\n",
    "import sklearn as sk\n",
    "import matplotlib.pyplot as plt\n",
    "import plotly.express as px\n",
    "from sklearn.preprocessing import LabelEncoder, OneHotEncoder"
   ]
  },
  {
   "cell_type": "code",
   "execution_count": 2,
   "id": "0b399b8c-21c2-4fcd-823d-423b21e40572",
   "metadata": {},
   "outputs": [],
   "source": [
    "train_without_nan = pd.read_csv(\"data/train_without_nans.csv\")\n",
    "test_without_nan = pd.read_csv(\"data/test_without_nans.csv\")"
   ]
  },
  {
   "cell_type": "code",
   "execution_count": 3,
   "id": "d1eec751-8736-4e36-a93a-57254a445d13",
   "metadata": {},
   "outputs": [
    {
     "name": "stdout",
     "output_type": "stream",
     "text": [
      "(1459, 81)\n",
      "<class 'pandas.core.frame.DataFrame'>\n",
      "RangeIndex: 1459 entries, 0 to 1458\n",
      "Data columns (total 81 columns):\n",
      " #   Column         Non-Null Count  Dtype  \n",
      "---  ------         --------------  -----  \n",
      " 0   Id             1459 non-null   int64  \n",
      " 1   MSSubClass     1459 non-null   int64  \n",
      " 2   MSZoning       1459 non-null   object \n",
      " 3   LotFrontage    1459 non-null   float64\n",
      " 4   LotArea        1459 non-null   int64  \n",
      " 5   Street         1459 non-null   object \n",
      " 6   Alley          1459 non-null   object \n",
      " 7   LotShape       1459 non-null   object \n",
      " 8   LandContour    1459 non-null   object \n",
      " 9   Utilities      1459 non-null   object \n",
      " 10  LotConfig      1459 non-null   object \n",
      " 11  LandSlope      1459 non-null   object \n",
      " 12  Neighborhood   1459 non-null   object \n",
      " 13  Condition1     1459 non-null   object \n",
      " 14  Condition2     1459 non-null   object \n",
      " 15  BldgType       1459 non-null   object \n",
      " 16  HouseStyle     1459 non-null   object \n",
      " 17  OverallQual    1459 non-null   int64  \n",
      " 18  OverallCond    1459 non-null   int64  \n",
      " 19  YearBuilt      1459 non-null   int64  \n",
      " 20  YearRemodAdd   1459 non-null   int64  \n",
      " 21  RoofStyle      1459 non-null   object \n",
      " 22  RoofMatl       1459 non-null   object \n",
      " 23  Exterior1st    1459 non-null   object \n",
      " 24  Exterior2nd    1459 non-null   object \n",
      " 25  MasVnrType     1459 non-null   object \n",
      " 26  MasVnrArea     1459 non-null   float64\n",
      " 27  ExterQual      1459 non-null   object \n",
      " 28  ExterCond      1459 non-null   object \n",
      " 29  Foundation     1459 non-null   object \n",
      " 30  BsmtQual       1459 non-null   object \n",
      " 31  BsmtCond       1459 non-null   object \n",
      " 32  BsmtExposure   1459 non-null   object \n",
      " 33  BsmtFinType1   1459 non-null   object \n",
      " 34  BsmtFinSF1     1459 non-null   int64  \n",
      " 35  BsmtFinType2   1459 non-null   object \n",
      " 36  BsmtFinSF2     1459 non-null   int64  \n",
      " 37  BsmtUnfSF      1459 non-null   int64  \n",
      " 38  TotalBsmtSF    1459 non-null   int64  \n",
      " 39  Heating        1459 non-null   object \n",
      " 40  HeatingQC      1459 non-null   object \n",
      " 41  CentralAir     1459 non-null   object \n",
      " 42  Electrical     1459 non-null   object \n",
      " 43  1stFlrSF       1459 non-null   int64  \n",
      " 44  2ndFlrSF       1459 non-null   int64  \n",
      " 45  LowQualFinSF   1459 non-null   int64  \n",
      " 46  GrLivArea      1459 non-null   int64  \n",
      " 47  BsmtFullBath   1459 non-null   int64  \n",
      " 48  BsmtHalfBath   1459 non-null   int64  \n",
      " 49  FullBath       1459 non-null   int64  \n",
      " 50  HalfBath       1459 non-null   int64  \n",
      " 51  BedroomAbvGr   1459 non-null   int64  \n",
      " 52  KitchenAbvGr   1459 non-null   int64  \n",
      " 53  KitchenQual    1459 non-null   object \n",
      " 54  TotRmsAbvGrd   1459 non-null   int64  \n",
      " 55  Functional     1459 non-null   object \n",
      " 56  Fireplaces     1459 non-null   int64  \n",
      " 57  FireplaceQu    1459 non-null   object \n",
      " 58  GarageType     1459 non-null   object \n",
      " 59  GarageYrBlt    1459 non-null   float64\n",
      " 60  GarageFinish   1459 non-null   object \n",
      " 61  GarageCars     1459 non-null   int64  \n",
      " 62  GarageArea     1459 non-null   int64  \n",
      " 63  GarageQual     1459 non-null   object \n",
      " 64  GarageCond     1459 non-null   object \n",
      " 65  PavedDrive     1459 non-null   object \n",
      " 66  WoodDeckSF     1459 non-null   int64  \n",
      " 67  OpenPorchSF    1459 non-null   int64  \n",
      " 68  EnclosedPorch  1459 non-null   int64  \n",
      " 69  3SsnPorch      1459 non-null   int64  \n",
      " 70  ScreenPorch    1459 non-null   int64  \n",
      " 71  PoolArea       1459 non-null   int64  \n",
      " 72  PoolQC         1459 non-null   object \n",
      " 73  Fence          1459 non-null   object \n",
      " 74  MiscFeature    1459 non-null   object \n",
      " 75  MiscVal        1459 non-null   int64  \n",
      " 76  MoSold         1459 non-null   int64  \n",
      " 77  YrSold         1459 non-null   int64  \n",
      " 78  SaleType       1459 non-null   object \n",
      " 79  SaleCondition  1459 non-null   object \n",
      " 80  SalePrice      1459 non-null   int64  \n",
      "dtypes: float64(3), int64(35), object(43)\n",
      "memory usage: 923.4+ KB\n"
     ]
    }
   ],
   "source": [
    "print(train_without_nan.shape)\n",
    "train_without_nan.info()"
   ]
  },
  {
   "cell_type": "markdown",
   "id": "00ffd892-efc8-4ace-b16d-5cdce3b2da9d",
   "metadata": {},
   "source": [
    "## Features' dtypes\n",
    "\n",
    "First of all we need to understand if features' dtypes really corresponds to real features' meaning and if there is no mistake in dtype for a particular feature.\n",
    "\n",
    "To ensure that all is OK we need to check data_description.txt file and ensure that dtypes really correspond to the features\n",
    "\n",
    "Now let's separate object features from numerical ones"
   ]
  },
  {
   "cell_type": "code",
   "execution_count": 4,
   "id": "4da7ead9-55f4-492f-9bd1-fc63a91b3364",
   "metadata": {},
   "outputs": [],
   "source": [
    "object_columns = train_without_nan.select_dtypes(include='object')\n",
    "numerical_columns = train_without_nan.select_dtypes(exclude=\"object\").drop([\"SalePrice\"], axis=1)"
   ]
  },
  {
   "cell_type": "markdown",
   "id": "5c1348a1-a048-453f-8aa7-6395be8439fd",
   "metadata": {},
   "source": [
    "## Category features encoding\n",
    "\n",
    "Let's check how many category features we have "
   ]
  },
  {
   "cell_type": "code",
   "execution_count": 5,
   "id": "5b4629c1-e372-4ba8-94e3-901532c8e894",
   "metadata": {},
   "outputs": [
    {
     "data": {
      "text/plain": [
       "(1459, 43)"
      ]
     },
     "execution_count": 5,
     "metadata": {},
     "output_type": "execute_result"
    }
   ],
   "source": [
    "object_columns.shape"
   ]
  },
  {
   "cell_type": "markdown",
   "id": "0183ae90-724d-4c1a-acbb-90e5c08e6014",
   "metadata": {},
   "source": [
    "And and what is the sum of the counts of categories in each feature"
   ]
  },
  {
   "cell_type": "code",
   "execution_count": 6,
   "id": "fc2654a0-8da8-41ab-bba4-b3ad13a89129",
   "metadata": {},
   "outputs": [
    {
     "name": "stdout",
     "output_type": "stream",
     "text": [
      "265\n",
      "[5, 2, 3, 4, 4, 2, 5, 3, 25, 9, 8, 5, 8, 6, 8, 15, 16, 4, 4, 5, 6, 5, 5, 4, 7, 7, 6, 5, 2, 5, 4, 7, 6, 7, 4, 6, 6, 3, 4, 5, 5, 9, 6]\n"
     ]
    }
   ],
   "source": [
    "category_counts_train = [train_without_nan[column].value_counts().shape[0] for column in object_columns.columns]\n",
    "print(sum(category_counts_train))\n",
    "print(category_counts_train)"
   ]
  },
  {
   "cell_type": "code",
   "execution_count": 7,
   "id": "ab4a8ac8-fe4f-4c5b-8da1-458fd145a397",
   "metadata": {},
   "outputs": [
    {
     "name": "stdout",
     "output_type": "stream",
     "text": [
      "247\n",
      "[5, 2, 3, 4, 4, 1, 5, 3, 25, 9, 5, 5, 7, 6, 4, 13, 15, 4, 4, 5, 6, 5, 5, 4, 7, 7, 4, 5, 2, 4, 4, 7, 6, 7, 4, 5, 6, 3, 3, 5, 4, 9, 6]\n"
     ]
    }
   ],
   "source": [
    "category_counts_test = [test_without_nan[column].value_counts().shape[0] for column in object_columns.columns]\n",
    "print(sum(category_counts_test))\n",
    "print(category_counts_test)"
   ]
  },
  {
   "cell_type": "markdown",
   "id": "577ab9f7-7222-4218-b02b-4329c1724ec5",
   "metadata": {},
   "source": [
    "We see that if we use, for example, one hot encoding, we will have additional 265 columns in our data (minus 43 because we will delete previous columns of taken feature).\n",
    "\n",
    "Anyway we have no better choice than encode features which have many categories with one hot encoding. To make our dataset at least a little bit smaller we will use label encoding for features which have only 2 categories. "
   ]
  },
  {
   "cell_type": "code",
   "execution_count": 8,
   "id": "42a452cc-047b-43a5-b9f3-6d4870d64670",
   "metadata": {},
   "outputs": [],
   "source": [
    "encoded_train = train_without_nan.copy()\n",
    "encoded_test = test_without_nan.copy()\n",
    "\n",
    "for column in object_columns.columns:\n",
    "    category_cnt = encoded_train[column].value_counts().shape[0]\n",
    "    \n",
    "    if category_cnt == 2:\n",
    "        encoder = LabelEncoder()\n",
    "        encoded_train[column] = encoder.fit_transform(encoded_train[column])\n",
    "        encoded_test[column] = encoder.transform(encoded_test[column])\n",
    "    else:\n",
    "        encoder = OneHotEncoder(sparse_output=False)\n",
    "        \n",
    "        one_hot_encoded_train = encoder.fit_transform(encoded_train[[column]])\n",
    "        one_hot_encoded_test = encoder.transform(encoded_test[[column]])\n",
    "        \n",
    "        one_hot_df_train = pd.DataFrame(one_hot_encoded_train,\n",
    "                                        columns=encoder.get_feature_names_out([column]))\n",
    "        one_hot_df_test = pd.DataFrame(one_hot_encoded_test,\n",
    "                                        columns=encoder.get_feature_names_out([column]))\n",
    "        \n",
    "        encoded_train = pd.concat([encoded_train, one_hot_df_train], axis=1)\n",
    "        encoded_train = encoded_train.drop([column], axis=1)\n",
    "\n",
    "        encoded_test = pd.concat([encoded_test, one_hot_df_test], axis=1)\n",
    "        encoded_test = encoded_test.drop([column], axis=1)"
   ]
  },
  {
   "cell_type": "code",
   "execution_count": 9,
   "id": "595d7714-b8b5-4cfa-bbfc-4b262d6b874b",
   "metadata": {},
   "outputs": [
    {
     "data": {
      "text/plain": [
       "(1459, 300)"
      ]
     },
     "execution_count": 9,
     "metadata": {},
     "output_type": "execute_result"
    }
   ],
   "source": [
    "encoded_train.shape"
   ]
  },
  {
   "cell_type": "code",
   "execution_count": 10,
   "id": "0b63cf79-dea3-4373-b21a-e9e9cf770d94",
   "metadata": {},
   "outputs": [
    {
     "data": {
      "text/plain": [
       "(1459, 299)"
      ]
     },
     "execution_count": 10,
     "metadata": {},
     "output_type": "execute_result"
    }
   ],
   "source": [
    "encoded_test.shape"
   ]
  },
  {
   "cell_type": "markdown",
   "id": "8a3c752b-40c3-4ffa-a29f-d0ac9d803e8d",
   "metadata": {},
   "source": [
    "## Casting continuous features\n",
    "\n",
    "To work with all features we need to convert them to float. Because of the fact that we have encoded all categorical features now we have all our features numerical"
   ]
  },
  {
   "cell_type": "code",
   "execution_count": 11,
   "id": "f623fcb1-2539-45a2-8560-a136ddedaa17",
   "metadata": {},
   "outputs": [],
   "source": [
    "encoded_train = encoded_train.astype(\"float64\")\n",
    "encoded_test = encoded_test.astype(\"float64\")"
   ]
  },
  {
   "cell_type": "code",
   "execution_count": 12,
   "id": "e604ec20-c1aa-4d1d-b91e-f67fe581ad89",
   "metadata": {},
   "outputs": [],
   "source": [
    "encoded_train.to_csv(\"data/encoded_train.csv\", index=False)\n",
    "encoded_test.to_csv(\"data/encoded_test.csv\", index=False)"
   ]
  },
  {
   "cell_type": "code",
   "execution_count": null,
   "id": "fffcc5f7-6925-4de3-8c06-0aa0dae4cc57",
   "metadata": {},
   "outputs": [],
   "source": []
  }
 ],
 "metadata": {
  "kernelspec": {
   "display_name": "Python 3 (ipykernel)",
   "language": "python",
   "name": "python3"
  },
  "language_info": {
   "codemirror_mode": {
    "name": "ipython",
    "version": 3
   },
   "file_extension": ".py",
   "mimetype": "text/x-python",
   "name": "python",
   "nbconvert_exporter": "python",
   "pygments_lexer": "ipython3",
   "version": "3.11.6"
  }
 },
 "nbformat": 4,
 "nbformat_minor": 5
}
