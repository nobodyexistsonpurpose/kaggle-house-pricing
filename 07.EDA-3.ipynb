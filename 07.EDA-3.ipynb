{
 "cells": [
  {
   "cell_type": "markdown",
   "id": "96e2d258-e1de-49e0-ba36-7c3f5f943e07",
   "metadata": {},
   "source": [
    "## Exploration of the similarity of statistical properties of training and test samples\n",
    "\n",
    "During the previous \"linear\" file we have noticed that although the decrease in LOO cross-validation score correlates with the decrease in public score, they still have a strong difference.\n",
    "\n",
    "One of the reasons for such an observation can be that train and submission tests have different statistical properties and on this purpose the model, trained on train set cannot fully describe the whole general data and we need some corrections in our predictions and some new approach to validate our models locally using only the train set for which we know the answers."
   ]
  },
  {
   "cell_type": "code",
   "execution_count": null,
   "id": "8366e14e-491c-4686-ba89-64e85123278f",
   "metadata": {},
   "outputs": [],
   "source": []
  }
 ],
 "metadata": {
  "kernelspec": {
   "display_name": "Python 3 (ipykernel)",
   "language": "python",
   "name": "python3"
  },
  "language_info": {
   "codemirror_mode": {
    "name": "ipython",
    "version": 3
   },
   "file_extension": ".py",
   "mimetype": "text/x-python",
   "name": "python",
   "nbconvert_exporter": "python",
   "pygments_lexer": "ipython3",
   "version": "3.11.6"
  }
 },
 "nbformat": 4,
 "nbformat_minor": 5
}
