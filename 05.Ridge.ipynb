{
 "cells": [
  {
   "cell_type": "markdown",
   "id": "c65cb28e-d4f0-410f-9f38-97392574a0f1",
   "metadata": {},
   "source": [
    "## Ridge Regression\n",
    "\n",
    "As we saw in the previous notebook simple linear regression has many problems from the point of view of practical application. The data must be ideal for it to work well.\n",
    "\n",
    "In this notebook we will use L2 reqularizations for the Linear Regression. Thank goodness these models can handle collinear data."
   ]
  },
  {
   "cell_type": "code",
   "execution_count": 1,
   "id": "0f740747-f787-4838-8da7-716c271f5a26",
   "metadata": {},
   "outputs": [],
   "source": [
    "import pandas as pd\n",
    "import numpy as np\n",
    "import matplotlib.pyplot as plt\n",
    "import plotly.express as px\n",
    "from plotly.subplots import make_subplots\n",
    "import plotly.graph_objects as go\n",
    "import matplotlib as mpl\n",
    "import seaborn as sns\n",
    "from IPython.core.display import HTML\n",
    "from sklearn.decomposition import PCA\n",
    "from sklearn.preprocessing import StandardScaler\n",
    "from sklearn.model_selection import train_test_split\n",
    "from sklearn.metrics import r2_score, root_mean_squared_error\n",
    "from sklearn.linear_model import Ridge, Lasso"
   ]
  },
  {
   "cell_type": "code",
   "execution_count": 2,
   "id": "1324e83a-b26f-4e8e-a588-bf52dc9d37bf",
   "metadata": {},
   "outputs": [],
   "source": [
    "data = pd.read_csv(\"data/train_without_nans.csv\")\n",
    "data_sub = pd.read_csv(\"data/test_without_nans.csv\")\n",
    "\n",
    "encoded = pd.read_csv(\"data/encoded_train.csv\")\n",
    "encoded_sub = pd.read_csv(\"data/encoded_test.csv\")"
   ]
  },
  {
   "cell_type": "markdown",
   "id": "bb23e2a2-9c7e-448b-a7f3-4280358ec9d9",
   "metadata": {},
   "source": [
    "This time we don't need to remove collinear features and we don't need to reencode our data. All we need is to clear our data from\n",
    "outliers and apply the models with futher tuning"
   ]
  },
  {
   "cell_type": "code",
   "execution_count": 3,
   "id": "b9580855-1a6e-432b-a9f1-0cd386bcb873",
   "metadata": {},
   "outputs": [],
   "source": [
    "'''\n",
    "Function for making submission for the encoded_test.csv data\n",
    "\n",
    "the variable y is \n",
    "'''\n",
    "\n",
    "def make_submission(model, X, y, sub_X, feature2scale, path):\n",
    "    \n",
    "    scaler = StandardScaler()\n",
    "    X[features2scale] = scaler.fit_transform(X[features2scale])\n",
    "    sub_X[features2scale] = scaler.transform(sub_X[features2scale])\n",
    "\n",
    "    y_real = y.copy()\n",
    "    y = np.log(y)\n",
    "    \n",
    "    trained_model = model.fit(X, y)\n",
    "    \n",
    "    train_predict = trained_model.predict(X)\n",
    "    sub_predict = pd.Series(np.exp(model.predict(sub_X)))\n",
    "    \n",
    "    print(\"WHOLE TRAIN RMSE: {}\".format(root_mean_squared_error(y_real, np.exp(train_predict))))\n",
    "    \n",
    "    sub_df = pd.DataFrame()\n",
    "    sub_df[\"Id\"] = data_sub[\"Id\"]\n",
    "    sub_df[\"SalePrice\"] = sub_predict\n",
    "\n",
    "    sub_df.to_csv(path, index=False)"
   ]
  },
  {
   "cell_type": "markdown",
   "id": "274be1ec-5b7b-40f8-bbeb-98f10fadb2a4",
   "metadata": {},
   "source": [
    "## Content"
   ]
  },
  {
   "cell_type": "markdown",
   "id": "12fa73c1-c58b-44bf-ac32-0cedd3048f94",
   "metadata": {},
   "source": [
    "## Outlier filtering \n",
    "\n",
    "First of all we also will use the \"3-sigma\" rule. In future perhaps we will try other filtering methods"
   ]
  },
  {
   "cell_type": "markdown",
   "id": "e6908dad-c88c-4061-b612-bf60578c8f37",
   "metadata": {},
   "source": [
    "### 3-sigma rule\n",
    "\n",
    "First of all we need to understand the next thing. Despite the fact that we have named all numerical features from the original dataset (except MSSubClass) as continuous, there are some features in the data which are categorical but were encoded with label encoding. To such features belong:\n",
    "* **OverallQual**\n",
    "* **OverallCond**\n",
    "* **BsmtFullBath**, **BsmtHalfBath**, **FullBath**, **HalfBath**, **BedroomAbvGr** &ndash; features which are not categorical, but applying to them some filter methods is not good because every value in these features seems to be normal (except cases, for example, if there are object with 500 Full Bathrooms :) which is abnormal but such cases were eliminated by our EDA)\n",
    "* **YearBuilt** &ndash; the same situation as above\n",
    "* **YearRemodAdd** &ndash; the same\n",
    "* **KitchenAbvGr**, **TotRmsAbvGrd**, **Fireplaces**, **GarageYrBlt**, **GarageCars** &ndash; also\n",
    "* **MoSold**, **YrSold**\n",
    "\n",
    "So..."
   ]
  },
  {
   "cell_type": "code",
   "execution_count": 4,
   "id": "7c237524-df03-460f-b33e-feb7a70420da",
   "metadata": {},
   "outputs": [
    {
     "name": "stdout",
     "output_type": "stream",
     "text": [
      "feature LotFrontage ---> filtered 2\n",
      "feature LotArea ---> filtered 5\n",
      "feature MasVnrArea ---> filtered 7\n",
      "feature BsmtFinSF1 ---> filtered 0\n",
      "feature BsmtFinSF2 ---> filtered 14\n",
      "feature BsmtUnfSF ---> filtered 0\n",
      "feature TotalBsmtSF ---> filtered 0\n",
      "feature 1stFlrSF ---> filtered 2\n",
      "feature 2ndFlrSF ---> filtered 0\n",
      "feature LowQualFinSF ---> filtered 16\n",
      "feature GrLivArea ---> filtered 1\n",
      "feature GarageArea ---> filtered 0\n",
      "feature WoodDeckSF ---> filtered 3\n",
      "feature OpenPorchSF ---> filtered 3\n",
      "feature EnclosedPorch ---> filtered 2\n",
      "feature 3SsnPorch ---> filtered 18\n",
      "feature ScreenPorch ---> filtered 5\n",
      "feature PoolArea ---> filtered 3\n",
      "feature MiscVal ---> filtered 3\n",
      "feature SalePrice ---> filtered 2\n",
      "WHOLE FILTERED CNT 86\n"
     ]
    }
   ],
   "source": [
    "std_cnt = 5\n",
    "\n",
    "skip_features = [\"Id\", \"MSSubClass\", \"OverallQual\", \"OverallCond\", \"BsmtFullBath\", \"BsmtHalfBath\", \"FullBath\", \"HalfBath\", \"BedroomAbvGr\",\n",
    "                 \"YearBuilt\", \"YearRemodAdd\", \"KitchenAbvGr\", \"TotRmsAbvGrd\", \"Fireplaces\", \"GarageYrBlt\", \"GarageCars\",\n",
    "                 \"MoSold\", \"YrSold\"]\n",
    "\n",
    "continuous_features = data.select_dtypes(exclude=\"object\").drop(skip_features, axis=1)\n",
    "\n",
    "filtered = encoded.copy()\n",
    "\n",
    "filtered[\"is_filtered\"] = pd.Series(np.zeros(filtered.shape[0]), dtype=\"int64\")\n",
    "\n",
    "for column in continuous_features.columns.values:\n",
    "    prev_filtered = filtered[\"is_filtered\"].sum()\n",
    "    \n",
    "    col_values = filtered[column]\n",
    "    mean = col_values.mean()\n",
    "    std = col_values.std()\n",
    "    filtered.loc[(mean - std_cnt*std > col_values) | (col_values > mean + std_cnt*std), \"is_filtered\"] = 1\n",
    "\n",
    "    print(\"feature {} ---> filtered {}\".format(column, filtered[\"is_filtered\"].sum() - prev_filtered))\n",
    "\n",
    "print(\"WHOLE FILTERED CNT\", filtered[\"is_filtered\"].sum())\n",
    "\n",
    "filtered = filtered[filtered[\"is_filtered\"] == 0]\n",
    "filtered = filtered.drop(\"is_filtered\", axis=1)"
   ]
  },
  {
   "cell_type": "markdown",
   "id": "e3b3b680-c762-462a-8a72-ff08ff1caada",
   "metadata": {},
   "source": [
    "## Splitting and Scaling \n",
    "\n",
    "Now we need to scale our filtered data"
   ]
  },
  {
   "cell_type": "code",
   "execution_count": 5,
   "id": "e1cb4bc1-fc6a-4fde-b332-27e6b226a86d",
   "metadata": {},
   "outputs": [
    {
     "data": {
      "text/plain": [
       "Index(['LotFrontage', 'LotArea', 'Street', 'Utilities', 'OverallQual',\n",
       "       'OverallCond', 'YearBuilt', 'YearRemodAdd', 'MasVnrArea', 'BsmtFinSF1',\n",
       "       ...\n",
       "       'MSSubClass_75', 'MSSubClass_80', 'MSSubClass_85', 'MSSubClass_90',\n",
       "       'MSSubClass_120', 'MSSubClass_150', 'MSSubClass_160', 'MSSubClass_180',\n",
       "       'MSSubClass_190', 'SalePrice'],\n",
       "      dtype='object', length=314)"
      ]
     },
     "execution_count": 5,
     "metadata": {},
     "output_type": "execute_result"
    }
   ],
   "source": [
    "filtered.columns"
   ]
  },
  {
   "cell_type": "code",
   "execution_count": 6,
   "id": "279ab53a-25b9-452e-a3fd-3f8d92afbc98",
   "metadata": {},
   "outputs": [
    {
     "data": {
      "text/plain": [
       "((1098, 313), (275, 313))"
      ]
     },
     "execution_count": 6,
     "metadata": {},
     "output_type": "execute_result"
    }
   ],
   "source": [
    "X = filtered.drop([\"SalePrice\"], axis=1).copy()\n",
    "y = filtered[\"SalePrice\"].copy()\n",
    "\n",
    "sub_X = encoded_sub.copy()\n",
    "\n",
    "X_train, X_test, y_train, y_test = train_test_split(X, y, test_size=0.20, random_state=1)\n",
    "\n",
    "features2scale = data.select_dtypes(exclude=\"object\").drop([\"Id\", \"MSSubClass\", \"SalePrice\"], axis=1).columns.values\n",
    "\n",
    "scaler = StandardScaler()\n",
    "\n",
    "X_train[features2scale] = scaler.fit_transform(X_train[features2scale])\n",
    "X_test[features2scale] = scaler.transform(X_test[features2scale])\n",
    "\n",
    "real_y_train = y_train.copy()\n",
    "real_y_test = y_test.copy()\n",
    "\n",
    "y_train = np.log(y_train)\n",
    "y_test = np.log(y_test)\n",
    "\n",
    "X_train.shape, X_test.shape"
   ]
  },
  {
   "cell_type": "markdown",
   "id": "ad6c8eed-f3a0-4726-9f34-6fa4f30c5b12",
   "metadata": {},
   "source": [
    "## Models applying\n",
    "\n",
    "Let's take a look how ridge and lasso performs on our new data"
   ]
  },
  {
   "cell_type": "code",
   "execution_count": 7,
   "id": "b70a8c1b-490d-4ce9-bad2-bd1cdb9f4eac",
   "metadata": {},
   "outputs": [
    {
     "name": "stdout",
     "output_type": "stream",
     "text": [
      "TRAIN LOG RMSE: 0.08543172708848658\n",
      "TEST LOG RMSE: 0.11352538730277134\n",
      "...................................\n",
      "TRAIN RMSE 15181.930112009515\n",
      "TEST RMSE 17940.373622376243\n",
      "WHOLE TRAIN RMSE: 15174.021798496298\n"
     ]
    }
   ],
   "source": [
    "ridge_reg = Ridge().fit(X_train, y_train)\n",
    "\n",
    "train_pred = ridge_reg.predict(X_train)\n",
    "test_pred = ridge_reg.predict(X_test)\n",
    "\n",
    "print(\"TRAIN LOG RMSE:\", root_mean_squared_error(y_train, train_pred))\n",
    "print(\"TEST LOG RMSE:\", root_mean_squared_error(y_test, test_pred))\n",
    "print(\".\" * 35)\n",
    "print(\"TRAIN RMSE\", root_mean_squared_error(real_y_train, np.exp(train_pred)))\n",
    "print(\"TEST RMSE\", root_mean_squared_error(real_y_test, np.exp(test_pred)))\n",
    "\n",
    "make_submission(Ridge(), X, y, sub_X, features2scale, \"submissions/ridge/ridge_3_sigma_filter.csv\")"
   ]
  },
  {
   "cell_type": "markdown",
   "id": "5d7c4de3-d60e-403e-a675-9f57c63c8a3e",
   "metadata": {},
   "source": [
    "With 3-sigma rule filtering we receive a score of **0.15896** which is worse than our baseline model with RidgeRegression.\n",
    "That means that perhaps we have thrown to many objects. But this is only the one of million possible causes"
   ]
  },
  {
   "cell_type": "markdown",
   "id": "77d590aa-2293-43f3-9157-4cddf72c0f57",
   "metadata": {},
   "source": [
    "### Checking coefficients"
   ]
  },
  {
   "cell_type": "code",
   "execution_count": 128,
   "id": "a9f25d77-870c-4e4b-8f4d-57f66c6616b0",
   "metadata": {},
   "outputs": [
    {
     "name": "stdout",
     "output_type": "stream",
     "text": [
      "MSZoning_C (all)......... -0.27157903728178956\n",
      "Functional_Maj2.......... -0.17205679113987105\n",
      "Heating_Grav............. -0.12587106760483902\n",
      "Neighborhood_MeadowV..... -0.11951078198519736\n",
      "Neighborhood_StoneBr.....  0.11779848428498227\n"
     ]
    }
   ],
   "source": [
    "sorted_coef_idx = np.argsort(-np.abs(ridge_reg.coef_))\n",
    "coef = ridge_reg.coef_[sorted_coef_idx]\n",
    "for i in range(0, 5):\n",
    "    print(\"{:.<025} {:< }\".format(X_train.columns[sorted_coef_idx[i]], coef[i]))"
   ]
  },
  {
   "cell_type": "markdown",
   "id": "3780a714-60b3-409c-8832-4609a3b098ec",
   "metadata": {},
   "source": [
    "It's strange that the most affecting features are just some categories. The model don't look at such an important features like\n",
    "Area of the Lot, OveralQuality of the house. Perhaps our alpha-parameter is to high and thus important features cannot show themselves.\n",
    "Let's take some other values of alpha"
   ]
  },
  {
   "cell_type": "code",
   "execution_count": 119,
   "id": "5586ea81-a59a-4f55-a0bc-09440f4e55b6",
   "metadata": {},
   "outputs": [
    {
     "name": "stdout",
     "output_type": "stream",
     "text": [
      "TRAIN LOG RMSE: 0.08047429535023858\n",
      "TEST LOG RMSE: 0.13769599725873466\n",
      "...................................\n",
      "TRAIN RMSE 13555.564874746198\n",
      "TEST RMSE 19269.541243830092\n",
      "MSSubClass_45............ -0.5152806040355594\n",
      "HouseStyle_1.5Unf........  0.4640953631162831\n",
      "MSZoning_C (all)......... -0.445476939288213\n",
      "Functional_Maj2.......... -0.37870988970050484\n",
      "MSSubClass_75............ -0.3586691365095825\n",
      "SaleCondition_Partial.... -0.3202308488436226\n",
      "HouseStyle_2.5Unf........  0.2894027810667336\n",
      "SaleType_New.............  0.27447329815794813\n",
      "Heating_Grav............. -0.2364863222390627\n",
      "MSSubClass_40............  0.2240606801355614\n",
      "RoofStyle_Shed...........  0.22406068013390296\n",
      "SaleCondition_AdjLand....  0.2006771062459512\n",
      "Foundation_Stone.........  0.19918149802794438\n",
      "HouseStyle_SFoyer........ -0.19208600593712918\n",
      "Exterior2nd_Brk Cmn......  0.17977878723579507\n",
      "GarageType_2Types........ -0.1783804745630281\n",
      "SaleType_ConLI........... -0.17697750244656038\n",
      "MSZoning_FV..............  0.17651657397677734\n",
      "HouseStyle_1Story........ -0.17484556869458884\n",
      "RoofStyle_Flat........... -0.1638550009565687\n"
     ]
    }
   ],
   "source": [
    "ridge_reg = Ridge(alpha=0.00001).fit(X_train, y_train)\n",
    "\n",
    "train_pred = ridge_reg.predict(X_train)\n",
    "test_pred = ridge_reg.predict(X_test)\n",
    "\n",
    "print(\"TRAIN LOG RMSE:\", root_mean_squared_error(y_train, train_pred))\n",
    "print(\"TEST LOG RMSE:\", root_mean_squared_error(y_test, test_pred))\n",
    "print(\".\" * 35)\n",
    "print(\"TRAIN RMSE\", root_mean_squared_error(real_y_train, np.exp(train_pred)))\n",
    "print(\"TEST RMSE\", root_mean_squared_error(real_y_test, np.exp(test_pred)))\n",
    "\n",
    "sorted_coef_idx = np.argsort(-np.abs(ridge_reg.coef_))\n",
    "coef = ridge_reg.coef_[sorted_coef_idx]\n",
    "for i in range(0, 20):\n",
    "    print(\"{:.<025} {:< }\".format(X_train.columns[sorted_coef_idx[i]], coef[i]))"
   ]
  },
  {
   "cell_type": "code",
   "execution_count": null,
   "id": "e98f249d-a879-46d0-9234-8b2e8e071820",
   "metadata": {},
   "outputs": [],
   "source": []
  }
 ],
 "metadata": {
  "kernelspec": {
   "display_name": "Python 3 (ipykernel)",
   "language": "python",
   "name": "python3"
  },
  "language_info": {
   "codemirror_mode": {
    "name": "ipython",
    "version": 3
   },
   "file_extension": ".py",
   "mimetype": "text/x-python",
   "name": "python",
   "nbconvert_exporter": "python",
   "pygments_lexer": "ipython3",
   "version": "3.11.6"
  }
 },
 "nbformat": 4,
 "nbformat_minor": 5
}
