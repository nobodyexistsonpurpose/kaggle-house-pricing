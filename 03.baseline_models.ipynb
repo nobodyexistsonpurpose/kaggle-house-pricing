{
 "cells": [
  {
   "cell_type": "markdown",
   "id": "0",
   "metadata": {},
   "source": [
    "## Base models\n",
    "\n",
    "In this notebook we will use some regression models to our data WITHOUT any tuning and data preprocessing (except missing value filling, encoding and scaling). Results which we will receive will be our base results which we will try to upgrade in the next notebooks\n",
    "\n",
    "We will use 4 baseline models. DummyRegressor, Linear Regression (OLS), Ridge regression, and RandomForest regression. But it doesn't mean that we will not use some other models in future"
   ]
  },
  {
   "cell_type": "code",
   "execution_count": 1,
   "id": "1",
   "metadata": {},
   "outputs": [],
   "source": [
    "import pandas as pd\n",
    "import numpy as np\n",
    "from sklearn.preprocessing import StandardScaler\n",
    "from sklearn.model_selection import train_test_split\n",
    "from sklearn.metrics import root_mean_squared_error"
   ]
  },
  {
   "cell_type": "code",
   "execution_count": 9,
   "id": "3808dfae-4479-4bdf-9cdb-32eb5c31cad2",
   "metadata": {},
   "outputs": [],
   "source": [
    "RANDOM_STATE=1"
   ]
  },
  {
   "cell_type": "markdown",
   "id": "2",
   "metadata": {},
   "source": [
    "## Content"
   ]
  },
  {
   "cell_type": "code",
   "execution_count": 2,
   "id": "3",
   "metadata": {},
   "outputs": [],
   "source": [
    "data = pd.read_csv(\"data/filled/train.csv\")\n",
    "sub = pd.read_csv(\"data/filled/test.csv\")\n",
    "\n",
    "encoded_data = pd.read_csv(\"data/encoded/train.csv\")\n",
    "encoded_sub = pd.read_csv(\"data/encoded/test.csv\")\n",
    "\n",
    "scaled_data = pd.read_csv(\"data/scaled/train.csv\")\n",
    "scaled_sub = pd.read_csv(\"data/scaled/test.csv\")"
   ]
  },
  {
   "cell_type": "markdown",
   "id": "4",
   "metadata": {},
   "source": [
    "### Train/test split & scaling"
   ]
  },
  {
   "cell_type": "code",
   "execution_count": 10,
   "id": "5",
   "metadata": {},
   "outputs": [
    {
     "data": {
      "text/plain": [
       "(1167, 316)"
      ]
     },
     "execution_count": 10,
     "metadata": {},
     "output_type": "execute_result"
    }
   ],
   "source": [
    "X = encoded_data.drop([\"SalePrice\"], axis=1)\n",
    "y = encoded_data[\"SalePrice\"]\n",
    "\n",
    "X_train, X_test, y_train, y_test = train_test_split(X, y, test_size=0.20, random_state=RANDOM_STATE)\n",
    "\n",
    "real_y_train = y_train.copy()\n",
    "real_y_test = y_test.copy()\n",
    "\n",
    "scaler = StandardScaler()\n",
    "\n",
    "continuous_columns = data.select_dtypes(exclude=\"object\").drop([\"SalePrice\", \"Id\", \"MSSubClass\"], axis=1).columns.values\n",
    "X_train[continuous_columns] = scaler.fit_transform(X_train[continuous_columns])\n",
    "X_test[continuous_columns] = scaler.transform(X_test[continuous_columns])\n",
    "\n",
    "y_train = np.log(y_train)\n",
    "y_test = np.log(y_test)\n",
    "\n",
    "X_train.shape"
   ]
  },
  {
   "cell_type": "markdown",
   "id": "6",
   "metadata": {},
   "source": [
    "## DummyRegressor"
   ]
  },
  {
   "cell_type": "code",
   "execution_count": 4,
   "id": "7",
   "metadata": {},
   "outputs": [
    {
     "name": "stdout",
     "output_type": "stream",
     "text": [
      "TRAIN LOG RMSE: 0.3975265163728815\n",
      "TEST LOG RMSE: 0.40741885860024457\n",
      "........................................\n",
      "TRAIN RMSE 81724.9360837574\n",
      "TEST RMSE 75334.24405265198\n"
     ]
    }
   ],
   "source": [
    "from sklearn.dummy import DummyRegressor\n",
    "\n",
    "dummy_reg = DummyRegressor().fit(X_train, y_train)\n",
    "\n",
    "train_pred = dummy_reg.predict(X_train)\n",
    "test_pred = dummy_reg.predict(X_test)\n",
    "\n",
    "print(\"TRAIN LOG RMSE:\", root_mean_squared_error(y_train, train_pred))\n",
    "print(\"TEST LOG RMSE:\", root_mean_squared_error(y_test, test_pred))\n",
    "print(\".\"*40)\n",
    "print(\"TRAIN RMSE\", root_mean_squared_error(real_y_train, np.exp(train_pred)))\n",
    "print(\"TEST RMSE\", root_mean_squared_error(real_y_test, np.exp(test_pred)))"
   ]
  },
  {
   "cell_type": "markdown",
   "id": "8",
   "metadata": {},
   "source": [
    "This will be our \"dummy\" baseline"
   ]
  },
  {
   "cell_type": "markdown",
   "id": "9",
   "metadata": {},
   "source": [
    "## OLS"
   ]
  },
  {
   "cell_type": "code",
   "execution_count": 11,
   "id": "10",
   "metadata": {},
   "outputs": [
    {
     "name": "stdout",
     "output_type": "stream",
     "text": [
      "TRAIN LOG RMSE: 0.08900924398760018\n",
      "TEST LOG RMSE: 0.13749958161239084\n",
      "........................................\n",
      "TRAIN RMSE: 17623.11994714418\n",
      "TEST RMSE: 21625.091522040417\n"
     ]
    }
   ],
   "source": [
    "from sklearn.linear_model import LinearRegression\n",
    "\n",
    "linear_reg = LinearRegression().fit(X_train, y_train)\n",
    "\n",
    "train_pred = linear_reg.predict(X_train)\n",
    "test_pred = linear_reg.predict(X_test)\n",
    "\n",
    "print(\"TRAIN LOG RMSE:\", root_mean_squared_error(y_train, train_pred))\n",
    "print(\"TEST LOG RMSE:\", root_mean_squared_error(y_test, test_pred))\n",
    "print(\".\"*40)\n",
    "print(\"TRAIN RMSE:\", root_mean_squared_error(real_y_train, np.exp(train_pred)))\n",
    "print(\"TEST RMSE:\", root_mean_squared_error(real_y_test, np.exp(test_pred)))"
   ]
  },
  {
   "cell_type": "markdown",
   "id": "16",
   "metadata": {},
   "source": [
    "## Ridge Regression"
   ]
  },
  {
   "cell_type": "code",
   "execution_count": 12,
   "id": "17",
   "metadata": {},
   "outputs": [
    {
     "name": "stdout",
     "output_type": "stream",
     "text": [
      "TRAIN LOG RMSE: 0.09612357883578238\n",
      "TEST LOG RMSE: 0.12982541244510395\n",
      "........................................\n",
      "TRAIN RMSE 19846.9789570854\n",
      "TEST RMSE 21362.56046901175\n"
     ]
    }
   ],
   "source": [
    "from sklearn.linear_model import Ridge\n",
    "\n",
    "ridge_reg = Ridge().fit(X_train, y_train)\n",
    "\n",
    "train_pred = ridge_reg.predict(X_train)\n",
    "test_pred = ridge_reg.predict(X_test)\n",
    "\n",
    "print(\"TRAIN LOG RMSE:\", root_mean_squared_error(y_train, train_pred))\n",
    "print(\"TEST LOG RMSE:\", root_mean_squared_error(y_test, test_pred))\n",
    "print(\".\" * 40)\n",
    "print(\"TRAIN RMSE\", root_mean_squared_error(real_y_train, np.exp(train_pred)))\n",
    "print(\"TEST RMSE\", root_mean_squared_error(real_y_test, np.exp(test_pred)))"
   ]
  },
  {
   "cell_type": "markdown",
   "id": "18",
   "metadata": {},
   "source": [
    "## RandomForest regression"
   ]
  },
  {
   "cell_type": "code",
   "execution_count": 15,
   "id": "19",
   "metadata": {},
   "outputs": [
    {
     "name": "stdout",
     "output_type": "stream",
     "text": [
      "TRAIN LOG RMSE: 0.05481059719342915\n",
      "TEST LOG RMSE: 0.13706657040050554\n",
      "........................................\n",
      "TRAIN RMSE 11749.129653478098\n",
      "TEST RMSE 22713.391858047176\n"
     ]
    }
   ],
   "source": [
    "from sklearn.ensemble import RandomForestRegressor\n",
    "\n",
    "rf_reg = RandomForestRegressor(random_state=RANDOM_STATE).fit(X_train, y_train)\n",
    "\n",
    "train_pred = rf_reg.predict(X_train)\n",
    "test_pred = rf_reg.predict(X_test)\n",
    "\n",
    "print(\"TRAIN LOG RMSE:\", root_mean_squared_error(y_train, train_pred))\n",
    "print(\"TEST LOG RMSE:\", root_mean_squared_error(y_test, test_pred))\n",
    "print(\".\" * 40)\n",
    "print(\"TRAIN RMSE\", root_mean_squared_error(real_y_train, np.exp(train_pred)))\n",
    "print(\"TEST RMSE\", root_mean_squared_error(real_y_test, np.exp(test_pred)))"
   ]
  },
  {
   "cell_type": "markdown",
   "id": "20",
   "metadata": {},
   "source": [
    "## Submission to kaggle\n",
    "\n",
    "Before submission we will use the whole train dataset for training. Because of the fact that ols gives us overflow we will submit only ridge and random_forest. Dummy regressor is too dummy to submit :)"
   ]
  },
  {
   "cell_type": "code",
   "execution_count": 16,
   "id": "21",
   "metadata": {},
   "outputs": [],
   "source": [
    "scaled_X = scaled_data.drop([\"SalePrice\"], axis=1)\n",
    "scaled_y = scaled_data[\"SalePrice\"]\n",
    "\n",
    "ridge_reg = ridge_reg.fit(scaled_X, scaled_y)\n",
    "ridge_sub = pd.Series(np.exp(ridge_reg.predict(scaled_sub)))\n",
    "ridge_sub_df = pd.DataFrame()\n",
    "ridge_sub_df[\"Id\"] = sub[\"Id\"]\n",
    "ridge_sub_df[\"SalePrice\"] = ridge_sub\n",
    "\n",
    "rf_reg = rf_reg.fit(scaled_X, scaled_y)\n",
    "rf_sub = pd.Series(np.exp(rf_reg.predict(scaled_sub)))\n",
    "rf_sub_df = pd.DataFrame()\n",
    "rf_sub_df[\"Id\"] = sub[\"Id\"]\n",
    "rf_sub_df[\"SalePrice\"] = rf_sub\n",
    "\n",
    "ridge_sub_df.to_csv(\"submissions/baseline/ridge.csv\", index=False)\n",
    "rf_sub_df.to_csv(\"submissions/baseline/random_forest.csv\", index=False)"
   ]
  },
  {
   "attachments": {
    "225e0108-f678-4e9c-9d65-9b28a0453049.png": {
     "image/png": "[encoded data removed]"
    },
    "72dfc9ef-1621-4e62-8a0a-09d9396adcc4.png": {
     "image/png": "[encoded data removed]"
    }
   },
   "cell_type": "markdown",
   "id": "22",
   "metadata": {},
   "source": [
    "We received the next results on Kaggle submission for Ridge regression and Random Forest regression:\n",
    "\n",
    "**Ridge** &ndash; **0.14036**\n",
    "\n",
    "![image.png](attachment:72dfc9ef-1621-4e62-8a0a-09d9396adcc4.png)\n",
    "\n",
    "**RandomForest** &ndash; **0.14417**\n",
    "\n",
    "![image.png](attachment:225e0108-f678-4e9c-9d65-9b28a0453049.png)"
   ]
  }
 ],
 "metadata": {
  "kernelspec": {
   "display_name": "ml-environment",
   "language": "python",
   "name": "ml-environment"
  },
  "language_info": {
   "codemirror_mode": {
    "name": "ipython",
    "version": 3
   },
   "file_extension": ".py",
   "mimetype": "text/x-python",
   "name": "python",
   "nbconvert_exporter": "python",
   "pygments_lexer": "ipython3",
   "version": "3.12.3"
  }
 },
 "nbformat": 4,
 "nbformat_minor": 5
}
