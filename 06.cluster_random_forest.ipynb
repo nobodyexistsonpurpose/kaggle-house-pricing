{
 "cells": [
  {
   "cell_type": "markdown",
   "id": "875b5a95-e86f-48fd-a248-854460eb311e",
   "metadata": {},
   "source": [
    "## Clustering with random forest\n",
    "\n",
    "In this notebook we will try to use clustering in combination with random forest.\n",
    "\n",
    "Our assumption will be that if we add clusters' labels to our dataset as a new feature than the random forest will perform better (Random forest will be able to make splits of the data also through clusters and not only through the initial features).\n",
    "\n",
    "With respect to the initial features it means that we will allow Random forest make some non-linear splits, rather some \"metric\" splits (K-means clusters uses Euclidian metric) "
   ]
  },
  {
   "cell_type": "code",
   "execution_count": 2,
   "id": "db47b118-2f97-4e72-886d-af179f28d323",
   "metadata": {},
   "outputs": [],
   "source": [
    "import pandas as pd\n",
    "import numpy as np\n",
    "import matplotlib.pyplot as plt\n",
    "import plotly.express as px\n",
    "from sklearn.model_selection import train_test_split\n",
    "from sklearn.metrics import r2_score, root_mean_squared_error\n",
    "from sklearn.ensemble import RandomForestRegressor\n",
    "from sklearn.tree import DecisionTreeRegressor"
   ]
  },
  {
   "cell_type": "markdown",
   "id": "49545639-d7f3-435b-a5a2-58f45f55b839",
   "metadata": {},
   "source": [
    "## Data load"
   ]
  },
  {
   "cell_type": "code",
   "execution_count": 3,
   "id": "95947682-d5c9-481c-a02c-f5777cb5ea16",
   "metadata": {},
   "outputs": [],
   "source": [
    "k2_train = pd.read_csv(\"models/random_forest_on_clusters/k2/k2_train.csv\")\n",
    "k2_test = pd.read_csv(\"models/random_forest_on_clusters/k2/k2_test.csv\")\n",
    "\n",
    "k3_train = pd.read_csv(\"models/random_forest_on_clusters/k3/k3_train.csv\")\n",
    "k3_test = pd.read_csv(\"models/random_forest_on_clusters/k3/k3_test.csv\")\n",
    "\n",
    "k6_train = pd.read_csv(\"models/random_forest_on_clusters/k6/k6_train.csv\")\n",
    "k6_test = pd.read_csv(\"models/random_forest_on_clusters/k6/k6_test.csv\")"
   ]
  },
  {
   "cell_type": "markdown",
   "id": "8c25c48c-9580-4f80-bdf2-2f2c9415ee37",
   "metadata": {},
   "source": [
    "## Checking feature importance in new data\n",
    "\n",
    "We can overfit DecisionTreeRegressor to check if our new features have at least some importance during the splitting"
   ]
  },
  {
   "cell_type": "markdown",
   "id": "2f3d8ddc-e0f9-433c-9db2-b177b00d9962",
   "metadata": {},
   "source": [
    "### K = 2"
   ]
  },
  {
   "cell_type": "code",
   "execution_count": 12,
   "id": "3b594df9-ab00-402c-b259-4da24c8a72cc",
   "metadata": {},
   "outputs": [
    {
     "data": {
      "text/plain": [
       "Index(['Unnamed: 0', 'LotFrontage', 'LotArea', 'Street', 'Utilities',\n",
       "       'OverallQual', 'OverallCond', 'YearBuilt', 'YearRemodAdd', 'MasVnrArea',\n",
       "       ...\n",
       "       'MSSubClass_80', 'MSSubClass_85', 'MSSubClass_90', 'MSSubClass_120',\n",
       "       'MSSubClass_150', 'MSSubClass_160', 'MSSubClass_180', 'MSSubClass_190',\n",
       "       'SalePrice', 'cluster'],\n",
       "      dtype='object', length=316)"
      ]
     },
     "execution_count": 12,
     "metadata": {},
     "output_type": "execute_result"
    }
   ],
   "source": [
    "k2_train.columns"
   ]
  },
  {
   "cell_type": "code",
   "execution_count": 10,
   "id": "e47d7b09-fbcd-47b8-ac1c-27749f562920",
   "metadata": {},
   "outputs": [],
   "source": [
    "reg2 = DecisionTreeRegressor()\n",
    "reg2.fit(k2_train.drop(\"SalePrice\", axis=1), k2_train[\"SalePrice\"])\n",
    "\n",
    "feat_importances_k2 = pd.DataFrame({\"importance\": reg2.feature_importances_}).set_index(k2_train.drop(\"SalePrice\", axis=1).columns)"
   ]
  },
  {
   "cell_type": "code",
   "execution_count": 11,
   "id": "350bb60a-e245-4836-84ef-a53f4ad29a6d",
   "metadata": {},
   "outputs": [
    {
     "data": {
      "text/html": [
       "<div>\n",
       "<style scoped>\n",
       "    .dataframe tbody tr th:only-of-type {\n",
       "        vertical-align: middle;\n",
       "    }\n",
       "\n",
       "    .dataframe tbody tr th {\n",
       "        vertical-align: top;\n",
       "    }\n",
       "\n",
       "    .dataframe thead th {\n",
       "        text-align: right;\n",
       "    }\n",
       "</style>\n",
       "<table border=\"1\" class=\"dataframe\">\n",
       "  <thead>\n",
       "    <tr style=\"text-align: right;\">\n",
       "      <th></th>\n",
       "      <th>importance</th>\n",
       "    </tr>\n",
       "  </thead>\n",
       "  <tbody>\n",
       "    <tr>\n",
       "      <th>Unnamed: 0</th>\n",
       "      <td>0.001922</td>\n",
       "    </tr>\n",
       "    <tr>\n",
       "      <th>LotFrontage</th>\n",
       "      <td>0.002382</td>\n",
       "    </tr>\n",
       "    <tr>\n",
       "      <th>LotArea</th>\n",
       "      <td>0.012400</td>\n",
       "    </tr>\n",
       "    <tr>\n",
       "      <th>Street</th>\n",
       "      <td>0.000000</td>\n",
       "    </tr>\n",
       "    <tr>\n",
       "      <th>Utilities</th>\n",
       "      <td>0.000000</td>\n",
       "    </tr>\n",
       "    <tr>\n",
       "      <th>...</th>\n",
       "      <td>...</td>\n",
       "    </tr>\n",
       "    <tr>\n",
       "      <th>MSSubClass_150</th>\n",
       "      <td>0.000000</td>\n",
       "    </tr>\n",
       "    <tr>\n",
       "      <th>MSSubClass_160</th>\n",
       "      <td>0.000000</td>\n",
       "    </tr>\n",
       "    <tr>\n",
       "      <th>MSSubClass_180</th>\n",
       "      <td>0.000000</td>\n",
       "    </tr>\n",
       "    <tr>\n",
       "      <th>MSSubClass_190</th>\n",
       "      <td>0.000000</td>\n",
       "    </tr>\n",
       "    <tr>\n",
       "      <th>cluster</th>\n",
       "      <td>0.520982</td>\n",
       "    </tr>\n",
       "  </tbody>\n",
       "</table>\n",
       "<p>315 rows × 1 columns</p>\n",
       "</div>"
      ],
      "text/plain": [
       "                importance\n",
       "Unnamed: 0        0.001922\n",
       "LotFrontage       0.002382\n",
       "LotArea           0.012400\n",
       "Street            0.000000\n",
       "Utilities         0.000000\n",
       "...                    ...\n",
       "MSSubClass_150    0.000000\n",
       "MSSubClass_160    0.000000\n",
       "MSSubClass_180    0.000000\n",
       "MSSubClass_190    0.000000\n",
       "cluster           0.520982\n",
       "\n",
       "[315 rows x 1 columns]"
      ]
     },
     "execution_count": 11,
     "metadata": {},
     "output_type": "execute_result"
    }
   ],
   "source": [
    "feat_importances_k2"
   ]
  },
  {
   "cell_type": "markdown",
   "id": "9b905ad4-b090-4850-8e5a-969b84c804df",
   "metadata": {},
   "source": [
    "## K = 2\n",
    "\n",
    "First of all we will use data, clustered with K-means with K=2"
   ]
  },
  {
   "cell_type": "code",
   "execution_count": null,
   "id": "3509b59c-3f30-4c7f-a6ae-0d222adefaea",
   "metadata": {},
   "outputs": [],
   "source": []
  }
 ],
 "metadata": {
  "kernelspec": {
   "display_name": "Python 3 (ipykernel)",
   "language": "python",
   "name": "python3"
  },
  "language_info": {
   "codemirror_mode": {
    "name": "ipython",
    "version": 3
   },
   "file_extension": ".py",
   "mimetype": "text/x-python",
   "name": "python",
   "nbconvert_exporter": "python",
   "pygments_lexer": "ipython3",
   "version": "3.11.6"
  }
 },
 "nbformat": 4,
 "nbformat_minor": 5
}
