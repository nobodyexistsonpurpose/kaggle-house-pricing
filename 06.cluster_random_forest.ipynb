{
 "cells": [
  {
   "cell_type": "markdown",
   "id": "875b5a95-e86f-48fd-a248-854460eb311e",
   "metadata": {},
   "source": [
    "## Clustering with random forest\n",
    "\n",
    "In this notebook we will try to use clustering in combination with random forest.\n",
    "\n",
    "Our assumption will be that if we add clusters' labels to our dataset as a new feature than the random forest will perform better (Random forest will be able to make splits of the data also through clusters and not only through the initial features).\n",
    "\n",
    "With respect to the initial features it means that we will allow Random forest make some non-linear splits, rather some \"metric\" splits (K-means clusters uses Euclidian metric) "
   ]
  },
  {
   "cell_type": "code",
   "execution_count": null,
   "id": "3509b59c-3f30-4c7f-a6ae-0d222adefaea",
   "metadata": {},
   "outputs": [],
   "source": []
  }
 ],
 "metadata": {
  "kernelspec": {
   "display_name": "Python 3 (ipykernel)",
   "language": "python",
   "name": "python3"
  },
  "language_info": {
   "codemirror_mode": {
    "name": "ipython",
    "version": 3
   },
   "file_extension": ".py",
   "mimetype": "text/x-python",
   "name": "python",
   "nbconvert_exporter": "python",
   "pygments_lexer": "ipython3",
   "version": "3.11.6"
  }
 },
 "nbformat": 4,
 "nbformat_minor": 5
}
