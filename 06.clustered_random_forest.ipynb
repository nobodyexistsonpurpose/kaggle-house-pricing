{
 "cells": [
  {
   "cell_type": "markdown",
   "id": "875b5a95-e86f-48fd-a248-854460eb311e",
   "metadata": {},
   "source": [
    "## Clustering with random forest\n",
    "\n",
    "In this notebook we will try to use clustering in combination with random forest.\n",
    "\n",
    "Our assumption will be that if we add clusters' labels to our dataset as a new feature than the random forest will perform better (Random forest will be able to make splits of the data also through clusters and not only through the initial features).\n",
    "\n",
    "With respect to the initial features it means that we will allow Random forest make some non-linear splits, rather some \"metric\" splits (K-means clusters uses Euclidian metric) "
   ]
  },
  {
   "cell_type": "code",
   "execution_count": 104,
   "id": "db47b118-2f97-4e72-886d-af179f28d323",
   "metadata": {},
   "outputs": [],
   "source": [
    "import pandas as pd\n",
    "import numpy as np\n",
    "import matplotlib.pyplot as plt\n",
    "import plotly.express as px\n",
    "from sklearn.model_selection import train_test_split\n",
    "from sklearn.metrics import r2_score, root_mean_squared_error, mean_squared_error\n",
    "from sklearn.ensemble import RandomForestRegressor\n",
    "from sklearn.tree import DecisionTreeRegressor\n",
    "from sklearn.model_selection import cross_val_score\n",
    "from sklearn import tree"
   ]
  },
  {
   "cell_type": "markdown",
   "id": "49545639-d7f3-435b-a5a2-58f45f55b839",
   "metadata": {},
   "source": [
    "## Data load"
   ]
  },
  {
   "cell_type": "code",
   "execution_count": 113,
   "id": "95947682-d5c9-481c-a02c-f5777cb5ea16",
   "metadata": {},
   "outputs": [],
   "source": [
    "k2_train = pd.read_csv(\"models/random_forest_on_clusters/k2/k2_train.csv\")\n",
    "k2_test = pd.read_csv(\"models/random_forest_on_clusters/k2/k2_test.csv\")\n",
    "\n",
    "k3_train = pd.read_csv(\"models/random_forest_on_clusters/k3/k3_train.csv\")\n",
    "k3_test = pd.read_csv(\"models/random_forest_on_clusters/k3/k3_test.csv\")\n",
    "\n",
    "k6_train = pd.read_csv(\"models/random_forest_on_clusters/k6/k6_train.csv\")\n",
    "k6_test = pd.read_csv(\"models/random_forest_on_clusters/k6/k6_test.csv\")"
   ]
  },
  {
   "cell_type": "markdown",
   "id": "8c25c48c-9580-4f80-bdf2-2f2c9415ee37",
   "metadata": {},
   "source": [
    "## Checking feature importance in new data\n",
    "\n",
    "We can overfit DecisionTreeRegressor to check if our new features have at least some importance during the splitting"
   ]
  },
  {
   "cell_type": "markdown",
   "id": "2f3d8ddc-e0f9-433c-9db2-b177b00d9962",
   "metadata": {},
   "source": [
    "### K = 2"
   ]
  },
  {
   "cell_type": "code",
   "execution_count": 114,
   "id": "e47d7b09-fbcd-47b8-ac1c-27749f562920",
   "metadata": {},
   "outputs": [
    {
     "data": {
      "text/html": [
       "<div>\n",
       "<style scoped>\n",
       "    .dataframe tbody tr th:only-of-type {\n",
       "        vertical-align: middle;\n",
       "    }\n",
       "\n",
       "    .dataframe tbody tr th {\n",
       "        vertical-align: top;\n",
       "    }\n",
       "\n",
       "    .dataframe thead th {\n",
       "        text-align: right;\n",
       "    }\n",
       "</style>\n",
       "<table border=\"1\" class=\"dataframe\">\n",
       "  <thead>\n",
       "    <tr style=\"text-align: right;\">\n",
       "      <th></th>\n",
       "      <th>importance</th>\n",
       "    </tr>\n",
       "  </thead>\n",
       "  <tbody>\n",
       "    <tr>\n",
       "      <th>cluster</th>\n",
       "      <td>0.520982</td>\n",
       "    </tr>\n",
       "    <tr>\n",
       "      <th>OverallQual</th>\n",
       "      <td>0.173541</td>\n",
       "    </tr>\n",
       "    <tr>\n",
       "      <th>GrLivArea</th>\n",
       "      <td>0.062320</td>\n",
       "    </tr>\n",
       "    <tr>\n",
       "      <th>TotalBsmtSF</th>\n",
       "      <td>0.032317</td>\n",
       "    </tr>\n",
       "    <tr>\n",
       "      <th>1stFlrSF</th>\n",
       "      <td>0.021719</td>\n",
       "    </tr>\n",
       "  </tbody>\n",
       "</table>\n",
       "</div>"
      ],
      "text/plain": [
       "             importance\n",
       "cluster        0.520982\n",
       "OverallQual    0.173541\n",
       "GrLivArea      0.062320\n",
       "TotalBsmtSF    0.032317\n",
       "1stFlrSF       0.021719"
      ]
     },
     "execution_count": 114,
     "metadata": {},
     "output_type": "execute_result"
    }
   ],
   "source": [
    "reg2 = DecisionTreeRegressor()\n",
    "reg2.fit(k2_train.drop(\"SalePrice\", axis=1), k2_train[\"SalePrice\"])\n",
    "\n",
    "feat_importances_k2 = pd.DataFrame({\"importance\": reg2.feature_importances_}).set_index(k2_train.drop(\"SalePrice\", axis=1).columns)\n",
    "feat_importances_k2.sort_values(by=\"importance\", ascending=False).head()"
   ]
  },
  {
   "cell_type": "markdown",
   "id": "28e8f26a-7c5e-4e24-a4af-78a6870231ac",
   "metadata": {},
   "source": [
    "SUPER!!! It looks like our cluster labels for K=2 have really much sense and they can help us to make more meaningfull splits"
   ]
  },
  {
   "cell_type": "markdown",
   "id": "b3402067-c5a3-4022-b836-8a001102bef2",
   "metadata": {},
   "source": [
    "### K = 3"
   ]
  },
  {
   "cell_type": "code",
   "execution_count": 115,
   "id": "f4ebd515-90df-49ce-b949-4e2cf9031c32",
   "metadata": {},
   "outputs": [
    {
     "data": {
      "text/html": [
       "<div>\n",
       "<style scoped>\n",
       "    .dataframe tbody tr th:only-of-type {\n",
       "        vertical-align: middle;\n",
       "    }\n",
       "\n",
       "    .dataframe tbody tr th {\n",
       "        vertical-align: top;\n",
       "    }\n",
       "\n",
       "    .dataframe thead th {\n",
       "        text-align: right;\n",
       "    }\n",
       "</style>\n",
       "<table border=\"1\" class=\"dataframe\">\n",
       "  <thead>\n",
       "    <tr style=\"text-align: right;\">\n",
       "      <th></th>\n",
       "      <th>importance</th>\n",
       "    </tr>\n",
       "  </thead>\n",
       "  <tbody>\n",
       "    <tr>\n",
       "      <th>OverallQual</th>\n",
       "      <td>0.566155</td>\n",
       "    </tr>\n",
       "    <tr>\n",
       "      <th>GrLivArea</th>\n",
       "      <td>0.122713</td>\n",
       "    </tr>\n",
       "    <tr>\n",
       "      <th>TotalBsmtSF</th>\n",
       "      <td>0.071143</td>\n",
       "    </tr>\n",
       "    <tr>\n",
       "      <th>1stFlrSF</th>\n",
       "      <td>0.020775</td>\n",
       "    </tr>\n",
       "    <tr>\n",
       "      <th>CentralAir</th>\n",
       "      <td>0.017935</td>\n",
       "    </tr>\n",
       "    <tr>\n",
       "      <th>GarageCars</th>\n",
       "      <td>0.017687</td>\n",
       "    </tr>\n",
       "    <tr>\n",
       "      <th>YearBuilt</th>\n",
       "      <td>0.016350</td>\n",
       "    </tr>\n",
       "    <tr>\n",
       "      <th>BsmtFinSF1</th>\n",
       "      <td>0.015297</td>\n",
       "    </tr>\n",
       "    <tr>\n",
       "      <th>OverallCond</th>\n",
       "      <td>0.012788</td>\n",
       "    </tr>\n",
       "    <tr>\n",
       "      <th>cluster</th>\n",
       "      <td>0.010756</td>\n",
       "    </tr>\n",
       "  </tbody>\n",
       "</table>\n",
       "</div>"
      ],
      "text/plain": [
       "             importance\n",
       "OverallQual    0.566155\n",
       "GrLivArea      0.122713\n",
       "TotalBsmtSF    0.071143\n",
       "1stFlrSF       0.020775\n",
       "CentralAir     0.017935\n",
       "GarageCars     0.017687\n",
       "YearBuilt      0.016350\n",
       "BsmtFinSF1     0.015297\n",
       "OverallCond    0.012788\n",
       "cluster        0.010756"
      ]
     },
     "execution_count": 115,
     "metadata": {},
     "output_type": "execute_result"
    }
   ],
   "source": [
    "reg3 = DecisionTreeRegressor()\n",
    "reg3.fit(k3_train.drop(\"SalePrice\", axis=1), k3_train[\"SalePrice\"])\n",
    "\n",
    "feat_importances_k3 = pd.DataFrame({\"importance\": reg3.feature_importances_}).set_index(k3_train.drop(\"SalePrice\", axis=1).columns)\n",
    "feat_importances_k3.sort_values(by=\"importance\", ascending=False).head(n=10)"
   ]
  },
  {
   "cell_type": "markdown",
   "id": "8d4585ef-8e26-4159-879a-181dfb8c322d",
   "metadata": {},
   "source": [
    "For K=3 we see that cluster feature is not so important for the desicion tree"
   ]
  },
  {
   "cell_type": "markdown",
   "id": "cdebc0e4-0c3f-465b-b8f3-0e396a300ae0",
   "metadata": {},
   "source": [
    "### K = 6"
   ]
  },
  {
   "cell_type": "code",
   "execution_count": 116,
   "id": "d4f5dd9d-1515-4a5f-8fd3-a3d23c089fd1",
   "metadata": {},
   "outputs": [
    {
     "data": {
      "text/plain": [
       "importance    0.003145\n",
       "Name: cluster, dtype: float64"
      ]
     },
     "execution_count": 116,
     "metadata": {},
     "output_type": "execute_result"
    }
   ],
   "source": [
    "reg6 = DecisionTreeRegressor()\n",
    "reg6.fit(k6_train.drop(\"SalePrice\", axis=1), k6_train[\"SalePrice\"])\n",
    "\n",
    "feat_importances_k6 = pd.DataFrame({\"importance\": reg6.feature_importances_}).set_index(k6_train.drop(\"SalePrice\", axis=1).columns)\n",
    "feat_importances_k6.loc[\"cluster\"]"
   ]
  },
  {
   "cell_type": "markdown",
   "id": "1e3fb727-011a-4a4d-a844-9e101d91d9f8",
   "metadata": {},
   "source": [
    "For the K=6 our cluster feature seems to be almost not important"
   ]
  },
  {
   "cell_type": "markdown",
   "id": "1dcb930a-4a65-4310-addd-d10dbfef007e",
   "metadata": {},
   "source": [
    "## Model Applying\n",
    "\n",
    "Let's train our Random Forest with different K and see what losses will we have"
   ]
  },
  {
   "cell_type": "markdown",
   "id": "9b905ad4-b090-4850-8e5a-969b84c804df",
   "metadata": {},
   "source": [
    "## K = 2"
   ]
  },
  {
   "cell_type": "code",
   "execution_count": 100,
   "id": "3509b59c-3f30-4c7f-a6ae-0d222adefaea",
   "metadata": {},
   "outputs": [
    {
     "name": "stdout",
     "output_type": "stream",
     "text": [
      "(1167, 314)\n",
      "TRAIN LOG RMSE: 0.09007113299443846\n",
      "TEST LOG RMSE: 0.12200729663657744\n",
      "...................................\n",
      "TRAIN RMSE 18849.151556862333\n",
      "TEST RMSE 23403.144409659362\n"
     ]
    }
   ],
   "source": [
    "X1 = k2_train.drop([\"SalePrice\"], axis=1)\n",
    "y1 = k2_train[\"SalePrice\"]\n",
    "\n",
    "X_train, X_test, y_train, y_test = train_test_split(X1, y1, test_size=0.2,\n",
    "                                                    random_state=3, stratify=X1[\"cluster\"])\n",
    "\n",
    "real_y_train = np.exp(y_train)\n",
    "real_y_test = np.exp(y_test)\n",
    "\n",
    "print(X_train.shape)\n",
    "\n",
    "rf_reg2 = RandomForestRegressor(max_depth=10, min_samples_leaf=4).fit(X_train, y_train)\n",
    "\n",
    "train_pred = rf_reg2.predict(X_train)\n",
    "test_pred = rf_reg2.predict(X_test)\n",
    "\n",
    "print(\"TRAIN LOG RMSE:\", root_mean_squared_error(y_train, train_pred))\n",
    "print(\"TEST LOG RMSE:\", root_mean_squared_error(y_test, test_pred))\n",
    "print(\".\" * 35)\n",
    "print(\"TRAIN RMSE\", root_mean_squared_error(real_y_train, np.exp(train_pred)))\n",
    "print(\"TEST RMSE\", root_mean_squared_error(real_y_test, np.exp(test_pred)))"
   ]
  },
  {
   "cell_type": "markdown",
   "id": "6dfd9d82-d83c-4669-a9aa-445fe3fa4d3c",
   "metadata": {},
   "source": [
    "Our Random Forest Regressor is affected by overfitting. It gives us little loss on train test and large on the test. If we run CV score we receive almost the same results on the test folds as we received using it on the initial data in baseline file"
   ]
  },
  {
   "cell_type": "code",
   "execution_count": 107,
   "id": "cbef31c2-d948-470c-83ed-3bd9a0f66852",
   "metadata": {},
   "outputs": [
    {
     "data": {
      "text/plain": [
       "array([-0.13619624, -0.15754212, -0.14676518, -0.13165255, -0.1440899 ])"
      ]
     },
     "execution_count": 107,
     "metadata": {},
     "output_type": "execute_result"
    }
   ],
   "source": [
    "scores = cross_val_score(RandomForestRegressor(), X1, y1, cv=5, scoring=\"neg_root_mean_squared_error\")\n",
    "scores"
   ]
  },
  {
   "cell_type": "markdown",
   "id": "c35587b6-24d5-4543-98f1-ced670f7d127",
   "metadata": {},
   "source": [
    "### K = 3"
   ]
  },
  {
   "cell_type": "code",
   "execution_count": 120,
   "id": "2ed5a400-ca2d-4169-aa45-e8d7d2eeacb7",
   "metadata": {},
   "outputs": [
    {
     "name": "stdout",
     "output_type": "stream",
     "text": [
      "(1167, 314)\n",
      "TRAIN LOG RMSE: 0.05368963545580474\n",
      "TEST LOG RMSE: 0.13815264289097393\n",
      "...................................\n",
      "TRAIN RMSE 11477.88889114934\n",
      "TEST RMSE 30618.22078262861\n"
     ]
    }
   ],
   "source": [
    "X2 = k3_train.drop([\"SalePrice\"], axis=1)\n",
    "y2 = k3_train[\"SalePrice\"]\n",
    "\n",
    "X_train, X_test, y_train, y_test = train_test_split(X2, y2, test_size=0.2,\n",
    "                                                    random_state=3, stratify=X2[\"cluster\"])\n",
    "\n",
    "real_y_train = np.exp(y_train)\n",
    "real_y_test = np.exp(y_test)\n",
    "\n",
    "print(X_train.shape)\n",
    "\n",
    "rf_reg3 = RandomForestRegressor().fit(X_train, y_train)\n",
    "\n",
    "train_pred = rf_reg3.predict(X_train)\n",
    "test_pred = rf_reg3.predict(X_test)\n",
    "\n",
    "print(\"TRAIN LOG RMSE:\", root_mean_squared_error(y_train, train_pred))\n",
    "print(\"TEST LOG RMSE:\", root_mean_squared_error(y_test, test_pred))\n",
    "print(\".\" * 35)\n",
    "print(\"TRAIN RMSE\", root_mean_squared_error(real_y_train, np.exp(train_pred)))\n",
    "print(\"TEST RMSE\", root_mean_squared_error(real_y_test, np.exp(test_pred)))"
   ]
  },
  {
   "cell_type": "code",
   "execution_count": 121,
   "id": "e4cf0e16-14ce-43db-a1a9-e0eac51e725b",
   "metadata": {},
   "outputs": [
    {
     "data": {
      "text/plain": [
       "array([-0.1390145 , -0.15613265, -0.14363535, -0.13050008, -0.14631757])"
      ]
     },
     "execution_count": 121,
     "metadata": {},
     "output_type": "execute_result"
    }
   ],
   "source": [
    "scores = cross_val_score(RandomForestRegressor(), X2, y2, cv=5, scoring=\"neg_root_mean_squared_error\")\n",
    "scores"
   ]
  },
  {
   "cell_type": "markdown",
   "id": "78440738-adab-4e8a-bd8e-e13f4f3a34bc",
   "metadata": {},
   "source": [
    "### K = 6"
   ]
  },
  {
   "cell_type": "code",
   "execution_count": 122,
   "id": "6b307b0d-9c72-4bc7-abef-ef987e960369",
   "metadata": {},
   "outputs": [
    {
     "name": "stdout",
     "output_type": "stream",
     "text": [
      "(1167, 314)\n",
      "TRAIN LOG RMSE: 0.05364762001285598\n",
      "TEST LOG RMSE: 0.146299498185989\n",
      "...................................\n",
      "TRAIN RMSE 11258.794667425187\n",
      "TEST RMSE 27787.893399186516\n"
     ]
    }
   ],
   "source": [
    "X3 = k6_train.drop([\"SalePrice\"], axis=1)\n",
    "y3 = k6_train[\"SalePrice\"]\n",
    "\n",
    "X_train, X_test, y_train, y_test = train_test_split(X3, y3, test_size=0.2,\n",
    "                                                    random_state=3, stratify=X3[\"cluster\"])\n",
    "\n",
    "real_y_train = np.exp(y_train)\n",
    "real_y_test = np.exp(y_test)\n",
    "\n",
    "print(X_train.shape)\n",
    "\n",
    "rf_reg6 = RandomForestRegressor().fit(X_train, y_train)\n",
    "\n",
    "train_pred = rf_reg6.predict(X_train)\n",
    "test_pred = rf_reg6.predict(X_test)\n",
    "\n",
    "print(\"TRAIN LOG RMSE:\", root_mean_squared_error(y_train, train_pred))\n",
    "print(\"TEST LOG RMSE:\", root_mean_squared_error(y_test, test_pred))\n",
    "print(\".\" * 35)\n",
    "print(\"TRAIN RMSE\", root_mean_squared_error(real_y_train, np.exp(train_pred)))\n",
    "print(\"TEST RMSE\", root_mean_squared_error(real_y_test, np.exp(test_pred)))"
   ]
  },
  {
   "cell_type": "code",
   "execution_count": null,
   "id": "ad0361ef-0994-449b-aa9c-db40b87f2aab",
   "metadata": {},
   "outputs": [],
   "source": []
  }
 ],
 "metadata": {
  "kernelspec": {
   "display_name": "Python 3 (ipykernel)",
   "language": "python",
   "name": "python3"
  },
  "language_info": {
   "codemirror_mode": {
    "name": "ipython",
    "version": 3
   },
   "file_extension": ".py",
   "mimetype": "text/x-python",
   "name": "python",
   "nbconvert_exporter": "python",
   "pygments_lexer": "ipython3",
   "version": "3.11.6"
  }
 },
 "nbformat": 4,
 "nbformat_minor": 5
}
